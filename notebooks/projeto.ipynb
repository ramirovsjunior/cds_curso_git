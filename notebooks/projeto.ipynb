{
 "cells": [
  {
   "cell_type": "markdown",
   "id": "f66f5ab2",
   "metadata": {
    "heading_collapsed": true
   },
   "source": [
    "# COMANDOS AUXILIARES"
   ]
  },
  {
   "cell_type": "markdown",
   "id": "4596b7c0",
   "metadata": {
    "heading_collapsed": true,
    "hidden": true
   },
   "source": [
    "## Imports"
   ]
  },
  {
   "cell_type": "code",
   "execution_count": 81,
   "id": "d10145d2",
   "metadata": {
    "ExecuteTime": {
     "end_time": "2022-07-18T21:50:07.599779Z",
     "start_time": "2022-07-18T21:50:05.663800Z"
    },
    "hidden": true
   },
   "outputs": [],
   "source": [
    "import seaborn as sns\n",
    "import pandas  as pd\n",
    "import numpy   as np\n",
    "import math\n",
    "\n",
    "from datetime import datetime\n",
    "\n",
    "from matplotlib import pyplot as plt"
   ]
  },
  {
   "cell_type": "markdown",
   "metadata": {},
   "source": [
    "## Funções Auxiliares"
   ]
  },
  {
   "cell_type": "code",
   "execution_count": 82,
   "metadata": {},
   "outputs": [],
   "source": [
    "# Ajuste do tamanho das imagens\n",
    "sns.set(rc = {'figure.figsize':(15,8)})"
   ]
  },
  {
   "cell_type": "code",
   "execution_count": 83,
   "metadata": {},
   "outputs": [],
   "source": [
    "# Função que criará as classes com base nos quilometros percorridos\n",
    "def create_km_class(km_driven):\n",
    "    # Cria a categoria a cada 5 mil Km percorridos\n",
    "    return math.ceil(km_driven / 5000)"
   ]
  },
  {
   "cell_type": "code",
   "execution_count": 84,
   "metadata": {},
   "outputs": [],
   "source": [
    "# Função que irá criar \n",
    "def create_sorted_companies_tuple(dataframe):\n",
    "    companies = dataframe['company_name'].to_list()\n",
    "    \n",
    "    companies_aux = [ company.split(' ') for company in companies ]\n",
    "    \n",
    "    companies_aux.sort(key=len, reverse=True)\n",
    "    \n",
    "    sorted_companies = [ ' '.join(company) for company in companies_aux ]\n",
    "    \n",
    "    return tuple(sorted_companies)"
   ]
  },
  {
   "cell_type": "code",
   "execution_count": 85,
   "metadata": {},
   "outputs": [],
   "source": [
    "# Função que irá verificar qual a fabricante de cada \n",
    "# moto do dataset\n",
    "def create_company_name(companies, data):\n",
    "    for company in companies:\n",
    "        if company in data['name']:\n",
    "            return company"
   ]
  },
  {
   "cell_type": "markdown",
   "id": "a7175ea5",
   "metadata": {},
   "source": [
    "# KICK OFF DO PROJETO!"
   ]
  },
  {
   "cell_type": "markdown",
   "id": "dadc7973",
   "metadata": {
    "heading_collapsed": true
   },
   "source": [
    "## Contexto do Problema de Negócio"
   ]
  },
  {
   "cell_type": "markdown",
   "id": "974c21fa",
   "metadata": {
    "hidden": true
   },
   "source": [
    "A Xtreme Groovy Bikes Sales é uma empresa de revenda de motocicletas. Seu modelo de nogócio é revender motocicletas usadas. Com a crescente do valor dos veículos usados, a XGB Sales, como é conhecida, deseja expandir os seus negócios. Você foi contratado como cientista de dados pela empresa XGB Sales para ajudá-los a encotrar as melhores motocicletas para revenda. \n",
    "\n",
    "Para isso, o CEO da empresa fez um estudo de mercado lhe entregou uma base de dados, obtida através desse estudo, para que você consiga auxiliá-lo a encontrar as melhores motocicletas para revenda, aumentando assim o lucro da empresa.\n",
    "\n",
    "Além disso, o CEO lhe fez algumas perguntas a cerca da base de dados que a empresa possui.\n",
    "Lembrando que o contexto, pessoas e perguntas são completamente fictícios e existem somente na minha imaginação."
   ]
  },
  {
   "cell_type": "markdown",
   "id": "03539e7c",
   "metadata": {},
   "source": [
    "## O Desafio"
   ]
  },
  {
   "cell_type": "markdown",
   "metadata": {},
   "source": [
    "A empresa XGB Sales lhe contratou como cientista de dados pois ela deseja aumentar o seu lucro comprando e revendendo as melhores motos disponíveis dentro da base de dados que a empresa adquiriu através de um estudo de mercado. "
   ]
  },
  {
   "cell_type": "markdown",
   "metadata": {},
   "source": [
    "### Primeira Rodada de Perguntas"
   ]
  },
  {
   "cell_type": "markdown",
   "id": "2114574c",
   "metadata": {},
   "source": [
    "Dessa forma, o CEO da XGB Sales lhe fez as seguintes perguntas:\n",
    "\n",
    "1. Quantas motos temos dentro do Dataset?\n",
    "2. Qual é o ano da moto mais antiga da base de dados?\n",
    "3. Qual é o ano da moto mais nova da base de dados?\n",
    "4. Qual é o valor da moto mais cara da base de dados?\n",
    "5. Qual é o valor do hodômotro da moto com a maior quilometragem?\n",
    "6. Qual é o valor do hodômotro da moto com a menor quiilometragem?\n",
    "7. Das motocicletas que estão sendo expostas dentro de um Show Room, qual é o maior valor registrado na base de dados?\n",
    "8. Das motocicletas que estão sendo expostas dentro de um Show Room, qual é o menor valor registrado na base de dados?\n",
    "9. Quantas motocicletas estão sendo vendidades pelos seus donos e quantas estão sendo vendidas por outros revendedores?\n",
    "10. Qual é a média de valores das motos na base de dados?\n",
    "11. Qual é a média de ano das motos cadastradas dentro da base de dados?\n",
    "12. Qual é a média de quilometragem das motos cadastradas dentro da base de dados?\n",
    "13. Existem quantas motos dentro da base de dados que são motos de um único dono?\n",
    "14. As motos com menor quilometragem são as motos mais baratas do Dataset?"
   ]
  },
  {
   "cell_type": "markdown",
   "id": "7c57cf3c",
   "metadata": {},
   "source": [
    "### Segunda Rodada de Perguntas"
   ]
  },
  {
   "cell_type": "markdown",
   "id": "f4793d29",
   "metadata": {},
   "source": [
    "Após analisar as respostas das perguntas anteriores, o CEO da XGB Sales lhe fez mais algumas perguntas:\n",
    "\n",
    "1. As motos que possuiram somente 1 dono são as motos mais caras na média que as motos que tiveram mais donos?\n",
    "2. As motos que possuiram mais donos são as motos que possuem quilometragem média maior que as motos que possuiram menos donos?\n",
    "3. As motos que possuiram mais donos são as motos mais velhas na média?\n",
    "4. As motos que são vendidas por revendedores são as motos mais caras na média do que as motos vendidas pelos seus donos?\n",
    "5. O CEO lhe entregou um novo dataset chamado companies.csv, onde estão todas as fabricantes de motocicletas. Adicione uma coluna no DataFrame com o nome de company. Essa coluna deve possuir o nome do fabricante de cada moto do DataFrame.\n",
    "6. Crie um novo dataset chamado bikes_completed.csv a partir do DataFrame com a coluna company preenchida.\n",
    "7. Quais são so fabricantes que mais possuem motos cadastradas na base de dados completa?"
   ]
  },
  {
   "cell_type": "markdown",
   "id": "7c57cf3c",
   "metadata": {},
   "source": [
    "### Terceira Rodada de Perguntas"
   ]
  },
  {
   "cell_type": "markdown",
   "id": "f4793d29",
   "metadata": {},
   "source": [
    "Após analisar as respostas das perguntas anteriores, o CEO da XGB Sales lhe fez mais algumas perguntas:\n",
    "\n",
    "1. Ajustar a coluna `name` para que ela fique somente com o nome da moto.\n",
    "2. Qual das fabricantes possui o maior preço médio de suas motos?\n",
    "3. Qual o fabricante que possui a moto com o maior quilometragem?\n",
    "4. Qual o fabricante que possui a moto mais velha?\n",
    "5. O fabricante que possui a moto mais cara do Dataset é também o fabricante que possui menos motos cadastradas?\n",
    "6. Qual o fabricante que possui a menor variação de valor de venda?\n",
    "7. Quais motos eu devo comprar? \n",
    "   - Leve em conta que eu desejo motos com no máximo 3 anos de uso; no máximo 40 mil quilometros rodados; que sejam de um único dono; que estejam sendo vendidas por possoas físicas e que tenham o valor pretendido de venda menor que o valor do showroom. Envie um relatório contendo o modelo, preço de venda, quilometro rodado e ano, ordenado por valor de venda de forma decrescente para o meu e-mail.\n"
   ]
  },
  {
   "cell_type": "markdown",
   "id": "bf69ae6d",
   "metadata": {
    "heading_collapsed": true
   },
   "source": [
    "## A Base de Dados"
   ]
  },
  {
   "cell_type": "markdown",
   "id": "5e9f4dbc",
   "metadata": {
    "hidden": true
   },
   "source": [
    "O conjunto de dados que representam o contexto está disponível na plataforma do Kaggle. O link para acesso aos dados: [Motorcycle Dataset](https://www.kaggle.com/datasets/nehalbirla/motorcycle-dataset)\n",
    "\n",
    "Além disso, eles podem ser encontrados dentro do diretóirio `data` deste projeto."
   ]
  },
  {
   "cell_type": "markdown",
   "metadata": {},
   "source": [
    "# Resolução do Desafio"
   ]
  },
  {
   "cell_type": "markdown",
   "metadata": {},
   "source": [
    "## Carregamento dos dados"
   ]
  },
  {
   "cell_type": "code",
   "execution_count": 86,
   "metadata": {},
   "outputs": [
    {
     "data": {
      "text/html": [
       "<div>\n",
       "<style scoped>\n",
       "    .dataframe tbody tr th:only-of-type {\n",
       "        vertical-align: middle;\n",
       "    }\n",
       "\n",
       "    .dataframe tbody tr th {\n",
       "        vertical-align: top;\n",
       "    }\n",
       "\n",
       "    .dataframe thead th {\n",
       "        text-align: right;\n",
       "    }\n",
       "</style>\n",
       "<table border=\"1\" class=\"dataframe\">\n",
       "  <thead>\n",
       "    <tr style=\"text-align: right;\">\n",
       "      <th></th>\n",
       "      <th>name</th>\n",
       "      <th>selling_price</th>\n",
       "      <th>year</th>\n",
       "      <th>seller_type</th>\n",
       "      <th>owner</th>\n",
       "      <th>km_driven</th>\n",
       "      <th>ex_showroom_price</th>\n",
       "    </tr>\n",
       "  </thead>\n",
       "  <tbody>\n",
       "    <tr>\n",
       "      <th>0</th>\n",
       "      <td>Royal Enfield Classic 350</td>\n",
       "      <td>175000</td>\n",
       "      <td>2019</td>\n",
       "      <td>Individual</td>\n",
       "      <td>1st owner</td>\n",
       "      <td>350</td>\n",
       "      <td>NaN</td>\n",
       "    </tr>\n",
       "    <tr>\n",
       "      <th>1</th>\n",
       "      <td>Honda Dio</td>\n",
       "      <td>45000</td>\n",
       "      <td>2017</td>\n",
       "      <td>Individual</td>\n",
       "      <td>1st owner</td>\n",
       "      <td>5650</td>\n",
       "      <td>NaN</td>\n",
       "    </tr>\n",
       "    <tr>\n",
       "      <th>2</th>\n",
       "      <td>Royal Enfield Classic Gunmetal Grey</td>\n",
       "      <td>150000</td>\n",
       "      <td>2018</td>\n",
       "      <td>Individual</td>\n",
       "      <td>1st owner</td>\n",
       "      <td>12000</td>\n",
       "      <td>148114.0</td>\n",
       "    </tr>\n",
       "    <tr>\n",
       "      <th>3</th>\n",
       "      <td>Yamaha Fazer FI V 2.0 [2016-2018]</td>\n",
       "      <td>65000</td>\n",
       "      <td>2015</td>\n",
       "      <td>Individual</td>\n",
       "      <td>1st owner</td>\n",
       "      <td>23000</td>\n",
       "      <td>89643.0</td>\n",
       "    </tr>\n",
       "    <tr>\n",
       "      <th>4</th>\n",
       "      <td>Yamaha SZ [2013-2014]</td>\n",
       "      <td>20000</td>\n",
       "      <td>2011</td>\n",
       "      <td>Individual</td>\n",
       "      <td>2nd owner</td>\n",
       "      <td>21000</td>\n",
       "      <td>NaN</td>\n",
       "    </tr>\n",
       "  </tbody>\n",
       "</table>\n",
       "</div>"
      ],
      "text/plain": [
       "                                  name  selling_price  year seller_type  \\\n",
       "0            Royal Enfield Classic 350         175000  2019  Individual   \n",
       "1                            Honda Dio          45000  2017  Individual   \n",
       "2  Royal Enfield Classic Gunmetal Grey         150000  2018  Individual   \n",
       "3    Yamaha Fazer FI V 2.0 [2016-2018]          65000  2015  Individual   \n",
       "4                Yamaha SZ [2013-2014]          20000  2011  Individual   \n",
       "\n",
       "       owner  km_driven  ex_showroom_price  \n",
       "0  1st owner        350                NaN  \n",
       "1  1st owner       5650                NaN  \n",
       "2  1st owner      12000           148114.0  \n",
       "3  1st owner      23000            89643.0  \n",
       "4  2nd owner      21000                NaN  "
      ]
     },
     "execution_count": 86,
     "metadata": {},
     "output_type": "execute_result"
    }
   ],
   "source": [
    "df_raw = pd.read_csv('../data/raw/bike.csv')\n",
    "df_raw.head()"
   ]
  },
  {
   "cell_type": "markdown",
   "metadata": {},
   "source": [
    "## Preparação dos Dados"
   ]
  },
  {
   "cell_type": "markdown",
   "metadata": {},
   "source": [
    "### Verificação de Tipos"
   ]
  },
  {
   "cell_type": "code",
   "execution_count": 87,
   "metadata": {},
   "outputs": [
    {
     "data": {
      "text/plain": [
       "name                  object\n",
       "selling_price          int64\n",
       "year                   int64\n",
       "seller_type           object\n",
       "owner                 object\n",
       "km_driven              int64\n",
       "ex_showroom_price    float64\n",
       "dtype: object"
      ]
     },
     "execution_count": 87,
     "metadata": {},
     "output_type": "execute_result"
    }
   ],
   "source": [
    "df_raw.dtypes"
   ]
  },
  {
   "cell_type": "markdown",
   "metadata": {},
   "source": [
    "### Criação da Coluna `id`"
   ]
  },
  {
   "cell_type": "code",
   "execution_count": 88,
   "metadata": {},
   "outputs": [
    {
     "data": {
      "text/html": [
       "<div>\n",
       "<style scoped>\n",
       "    .dataframe tbody tr th:only-of-type {\n",
       "        vertical-align: middle;\n",
       "    }\n",
       "\n",
       "    .dataframe tbody tr th {\n",
       "        vertical-align: top;\n",
       "    }\n",
       "\n",
       "    .dataframe thead th {\n",
       "        text-align: right;\n",
       "    }\n",
       "</style>\n",
       "<table border=\"1\" class=\"dataframe\">\n",
       "  <thead>\n",
       "    <tr style=\"text-align: right;\">\n",
       "      <th></th>\n",
       "      <th>id</th>\n",
       "      <th>name</th>\n",
       "      <th>selling_price</th>\n",
       "      <th>year</th>\n",
       "      <th>seller_type</th>\n",
       "      <th>owner</th>\n",
       "      <th>km_driven</th>\n",
       "      <th>ex_showroom_price</th>\n",
       "    </tr>\n",
       "  </thead>\n",
       "  <tbody>\n",
       "    <tr>\n",
       "      <th>0</th>\n",
       "      <td>0</td>\n",
       "      <td>Royal Enfield Classic 350</td>\n",
       "      <td>175000</td>\n",
       "      <td>2019</td>\n",
       "      <td>Individual</td>\n",
       "      <td>1st owner</td>\n",
       "      <td>350</td>\n",
       "      <td>NaN</td>\n",
       "    </tr>\n",
       "    <tr>\n",
       "      <th>1</th>\n",
       "      <td>1</td>\n",
       "      <td>Honda Dio</td>\n",
       "      <td>45000</td>\n",
       "      <td>2017</td>\n",
       "      <td>Individual</td>\n",
       "      <td>1st owner</td>\n",
       "      <td>5650</td>\n",
       "      <td>NaN</td>\n",
       "    </tr>\n",
       "    <tr>\n",
       "      <th>2</th>\n",
       "      <td>2</td>\n",
       "      <td>Royal Enfield Classic Gunmetal Grey</td>\n",
       "      <td>150000</td>\n",
       "      <td>2018</td>\n",
       "      <td>Individual</td>\n",
       "      <td>1st owner</td>\n",
       "      <td>12000</td>\n",
       "      <td>148114.0</td>\n",
       "    </tr>\n",
       "    <tr>\n",
       "      <th>3</th>\n",
       "      <td>3</td>\n",
       "      <td>Yamaha Fazer FI V 2.0 [2016-2018]</td>\n",
       "      <td>65000</td>\n",
       "      <td>2015</td>\n",
       "      <td>Individual</td>\n",
       "      <td>1st owner</td>\n",
       "      <td>23000</td>\n",
       "      <td>89643.0</td>\n",
       "    </tr>\n",
       "    <tr>\n",
       "      <th>4</th>\n",
       "      <td>4</td>\n",
       "      <td>Yamaha SZ [2013-2014]</td>\n",
       "      <td>20000</td>\n",
       "      <td>2011</td>\n",
       "      <td>Individual</td>\n",
       "      <td>2nd owner</td>\n",
       "      <td>21000</td>\n",
       "      <td>NaN</td>\n",
       "    </tr>\n",
       "  </tbody>\n",
       "</table>\n",
       "</div>"
      ],
      "text/plain": [
       "   id                                 name  selling_price  year seller_type  \\\n",
       "0   0            Royal Enfield Classic 350         175000  2019  Individual   \n",
       "1   1                            Honda Dio          45000  2017  Individual   \n",
       "2   2  Royal Enfield Classic Gunmetal Grey         150000  2018  Individual   \n",
       "3   3    Yamaha Fazer FI V 2.0 [2016-2018]          65000  2015  Individual   \n",
       "4   4                Yamaha SZ [2013-2014]          20000  2011  Individual   \n",
       "\n",
       "       owner  km_driven  ex_showroom_price  \n",
       "0  1st owner        350                NaN  \n",
       "1  1st owner       5650                NaN  \n",
       "2  1st owner      12000           148114.0  \n",
       "3  1st owner      23000            89643.0  \n",
       "4  2nd owner      21000                NaN  "
      ]
     },
     "execution_count": 88,
     "metadata": {},
     "output_type": "execute_result"
    }
   ],
   "source": [
    "df_raw = df_raw.reset_index()\n",
    "df_raw = df_raw.rename(columns={'index': 'id'})\n",
    "df_raw.head()"
   ]
  },
  {
   "cell_type": "markdown",
   "metadata": {},
   "source": [
    "### Ajuste do tipo de dados da coluna `selling_price`"
   ]
  },
  {
   "cell_type": "code",
   "execution_count": 89,
   "metadata": {},
   "outputs": [
    {
     "data": {
      "text/html": [
       "<div>\n",
       "<style scoped>\n",
       "    .dataframe tbody tr th:only-of-type {\n",
       "        vertical-align: middle;\n",
       "    }\n",
       "\n",
       "    .dataframe tbody tr th {\n",
       "        vertical-align: top;\n",
       "    }\n",
       "\n",
       "    .dataframe thead th {\n",
       "        text-align: right;\n",
       "    }\n",
       "</style>\n",
       "<table border=\"1\" class=\"dataframe\">\n",
       "  <thead>\n",
       "    <tr style=\"text-align: right;\">\n",
       "      <th></th>\n",
       "      <th>id</th>\n",
       "      <th>name</th>\n",
       "      <th>selling_price</th>\n",
       "      <th>year</th>\n",
       "      <th>seller_type</th>\n",
       "      <th>owner</th>\n",
       "      <th>km_driven</th>\n",
       "      <th>ex_showroom_price</th>\n",
       "    </tr>\n",
       "  </thead>\n",
       "  <tbody>\n",
       "    <tr>\n",
       "      <th>0</th>\n",
       "      <td>0</td>\n",
       "      <td>Royal Enfield Classic 350</td>\n",
       "      <td>175000.0</td>\n",
       "      <td>2019</td>\n",
       "      <td>Individual</td>\n",
       "      <td>1st owner</td>\n",
       "      <td>350</td>\n",
       "      <td>NaN</td>\n",
       "    </tr>\n",
       "    <tr>\n",
       "      <th>1</th>\n",
       "      <td>1</td>\n",
       "      <td>Honda Dio</td>\n",
       "      <td>45000.0</td>\n",
       "      <td>2017</td>\n",
       "      <td>Individual</td>\n",
       "      <td>1st owner</td>\n",
       "      <td>5650</td>\n",
       "      <td>NaN</td>\n",
       "    </tr>\n",
       "    <tr>\n",
       "      <th>2</th>\n",
       "      <td>2</td>\n",
       "      <td>Royal Enfield Classic Gunmetal Grey</td>\n",
       "      <td>150000.0</td>\n",
       "      <td>2018</td>\n",
       "      <td>Individual</td>\n",
       "      <td>1st owner</td>\n",
       "      <td>12000</td>\n",
       "      <td>148114.0</td>\n",
       "    </tr>\n",
       "    <tr>\n",
       "      <th>3</th>\n",
       "      <td>3</td>\n",
       "      <td>Yamaha Fazer FI V 2.0 [2016-2018]</td>\n",
       "      <td>65000.0</td>\n",
       "      <td>2015</td>\n",
       "      <td>Individual</td>\n",
       "      <td>1st owner</td>\n",
       "      <td>23000</td>\n",
       "      <td>89643.0</td>\n",
       "    </tr>\n",
       "    <tr>\n",
       "      <th>4</th>\n",
       "      <td>4</td>\n",
       "      <td>Yamaha SZ [2013-2014]</td>\n",
       "      <td>20000.0</td>\n",
       "      <td>2011</td>\n",
       "      <td>Individual</td>\n",
       "      <td>2nd owner</td>\n",
       "      <td>21000</td>\n",
       "      <td>NaN</td>\n",
       "    </tr>\n",
       "  </tbody>\n",
       "</table>\n",
       "</div>"
      ],
      "text/plain": [
       "   id                                 name  selling_price  year seller_type  \\\n",
       "0   0            Royal Enfield Classic 350       175000.0  2019  Individual   \n",
       "1   1                            Honda Dio        45000.0  2017  Individual   \n",
       "2   2  Royal Enfield Classic Gunmetal Grey       150000.0  2018  Individual   \n",
       "3   3    Yamaha Fazer FI V 2.0 [2016-2018]        65000.0  2015  Individual   \n",
       "4   4                Yamaha SZ [2013-2014]        20000.0  2011  Individual   \n",
       "\n",
       "       owner  km_driven  ex_showroom_price  \n",
       "0  1st owner        350                NaN  \n",
       "1  1st owner       5650                NaN  \n",
       "2  1st owner      12000           148114.0  \n",
       "3  1st owner      23000            89643.0  \n",
       "4  2nd owner      21000                NaN  "
      ]
     },
     "execution_count": 89,
     "metadata": {},
     "output_type": "execute_result"
    }
   ],
   "source": [
    "# Deixando a coluna ex_showroom_price e selling_price na mesma grandeza\n",
    "df_raw['selling_price'] = df_raw['selling_price'].astype(float)\n",
    "df_raw.head()"
   ]
  },
  {
   "cell_type": "markdown",
   "metadata": {},
   "source": [
    "### Criando a Coluna `age`"
   ]
  },
  {
   "cell_type": "code",
   "execution_count": 90,
   "metadata": {},
   "outputs": [
    {
     "data": {
      "text/html": [
       "<div>\n",
       "<style scoped>\n",
       "    .dataframe tbody tr th:only-of-type {\n",
       "        vertical-align: middle;\n",
       "    }\n",
       "\n",
       "    .dataframe tbody tr th {\n",
       "        vertical-align: top;\n",
       "    }\n",
       "\n",
       "    .dataframe thead th {\n",
       "        text-align: right;\n",
       "    }\n",
       "</style>\n",
       "<table border=\"1\" class=\"dataframe\">\n",
       "  <thead>\n",
       "    <tr style=\"text-align: right;\">\n",
       "      <th></th>\n",
       "      <th>id</th>\n",
       "      <th>name</th>\n",
       "      <th>selling_price</th>\n",
       "      <th>year</th>\n",
       "      <th>seller_type</th>\n",
       "      <th>owner</th>\n",
       "      <th>km_driven</th>\n",
       "      <th>ex_showroom_price</th>\n",
       "      <th>age</th>\n",
       "    </tr>\n",
       "  </thead>\n",
       "  <tbody>\n",
       "    <tr>\n",
       "      <th>0</th>\n",
       "      <td>0</td>\n",
       "      <td>Royal Enfield Classic 350</td>\n",
       "      <td>175000.0</td>\n",
       "      <td>2019</td>\n",
       "      <td>Individual</td>\n",
       "      <td>1st owner</td>\n",
       "      <td>350</td>\n",
       "      <td>NaN</td>\n",
       "      <td>3</td>\n",
       "    </tr>\n",
       "    <tr>\n",
       "      <th>1</th>\n",
       "      <td>1</td>\n",
       "      <td>Honda Dio</td>\n",
       "      <td>45000.0</td>\n",
       "      <td>2017</td>\n",
       "      <td>Individual</td>\n",
       "      <td>1st owner</td>\n",
       "      <td>5650</td>\n",
       "      <td>NaN</td>\n",
       "      <td>5</td>\n",
       "    </tr>\n",
       "    <tr>\n",
       "      <th>2</th>\n",
       "      <td>2</td>\n",
       "      <td>Royal Enfield Classic Gunmetal Grey</td>\n",
       "      <td>150000.0</td>\n",
       "      <td>2018</td>\n",
       "      <td>Individual</td>\n",
       "      <td>1st owner</td>\n",
       "      <td>12000</td>\n",
       "      <td>148114.0</td>\n",
       "      <td>4</td>\n",
       "    </tr>\n",
       "    <tr>\n",
       "      <th>3</th>\n",
       "      <td>3</td>\n",
       "      <td>Yamaha Fazer FI V 2.0 [2016-2018]</td>\n",
       "      <td>65000.0</td>\n",
       "      <td>2015</td>\n",
       "      <td>Individual</td>\n",
       "      <td>1st owner</td>\n",
       "      <td>23000</td>\n",
       "      <td>89643.0</td>\n",
       "      <td>7</td>\n",
       "    </tr>\n",
       "    <tr>\n",
       "      <th>4</th>\n",
       "      <td>4</td>\n",
       "      <td>Yamaha SZ [2013-2014]</td>\n",
       "      <td>20000.0</td>\n",
       "      <td>2011</td>\n",
       "      <td>Individual</td>\n",
       "      <td>2nd owner</td>\n",
       "      <td>21000</td>\n",
       "      <td>NaN</td>\n",
       "      <td>11</td>\n",
       "    </tr>\n",
       "  </tbody>\n",
       "</table>\n",
       "</div>"
      ],
      "text/plain": [
       "   id                                 name  selling_price  year seller_type  \\\n",
       "0   0            Royal Enfield Classic 350       175000.0  2019  Individual   \n",
       "1   1                            Honda Dio        45000.0  2017  Individual   \n",
       "2   2  Royal Enfield Classic Gunmetal Grey       150000.0  2018  Individual   \n",
       "3   3    Yamaha Fazer FI V 2.0 [2016-2018]        65000.0  2015  Individual   \n",
       "4   4                Yamaha SZ [2013-2014]        20000.0  2011  Individual   \n",
       "\n",
       "       owner  km_driven  ex_showroom_price  age  \n",
       "0  1st owner        350                NaN    3  \n",
       "1  1st owner       5650                NaN    5  \n",
       "2  1st owner      12000           148114.0    4  \n",
       "3  1st owner      23000            89643.0    7  \n",
       "4  2nd owner      21000                NaN   11  "
      ]
     },
     "execution_count": 90,
     "metadata": {},
     "output_type": "execute_result"
    }
   ],
   "source": [
    "df_raw['age'] = df_raw['year'].apply( lambda year: datetime.now().year - year )\n",
    "df_raw.head()"
   ]
  },
  {
   "cell_type": "markdown",
   "metadata": {},
   "source": [
    "### Criando a Coluna `km_class`"
   ]
  },
  {
   "cell_type": "code",
   "execution_count": 91,
   "metadata": {},
   "outputs": [
    {
     "data": {
      "text/html": [
       "<div>\n",
       "<style scoped>\n",
       "    .dataframe tbody tr th:only-of-type {\n",
       "        vertical-align: middle;\n",
       "    }\n",
       "\n",
       "    .dataframe tbody tr th {\n",
       "        vertical-align: top;\n",
       "    }\n",
       "\n",
       "    .dataframe thead th {\n",
       "        text-align: right;\n",
       "    }\n",
       "</style>\n",
       "<table border=\"1\" class=\"dataframe\">\n",
       "  <thead>\n",
       "    <tr style=\"text-align: right;\">\n",
       "      <th></th>\n",
       "      <th>id</th>\n",
       "      <th>name</th>\n",
       "      <th>selling_price</th>\n",
       "      <th>year</th>\n",
       "      <th>seller_type</th>\n",
       "      <th>owner</th>\n",
       "      <th>km_driven</th>\n",
       "      <th>ex_showroom_price</th>\n",
       "      <th>age</th>\n",
       "      <th>km_class</th>\n",
       "    </tr>\n",
       "  </thead>\n",
       "  <tbody>\n",
       "    <tr>\n",
       "      <th>0</th>\n",
       "      <td>0</td>\n",
       "      <td>Royal Enfield Classic 350</td>\n",
       "      <td>175000.0</td>\n",
       "      <td>2019</td>\n",
       "      <td>Individual</td>\n",
       "      <td>1st owner</td>\n",
       "      <td>350</td>\n",
       "      <td>NaN</td>\n",
       "      <td>3</td>\n",
       "      <td>1</td>\n",
       "    </tr>\n",
       "    <tr>\n",
       "      <th>1</th>\n",
       "      <td>1</td>\n",
       "      <td>Honda Dio</td>\n",
       "      <td>45000.0</td>\n",
       "      <td>2017</td>\n",
       "      <td>Individual</td>\n",
       "      <td>1st owner</td>\n",
       "      <td>5650</td>\n",
       "      <td>NaN</td>\n",
       "      <td>5</td>\n",
       "      <td>2</td>\n",
       "    </tr>\n",
       "    <tr>\n",
       "      <th>2</th>\n",
       "      <td>2</td>\n",
       "      <td>Royal Enfield Classic Gunmetal Grey</td>\n",
       "      <td>150000.0</td>\n",
       "      <td>2018</td>\n",
       "      <td>Individual</td>\n",
       "      <td>1st owner</td>\n",
       "      <td>12000</td>\n",
       "      <td>148114.0</td>\n",
       "      <td>4</td>\n",
       "      <td>3</td>\n",
       "    </tr>\n",
       "    <tr>\n",
       "      <th>3</th>\n",
       "      <td>3</td>\n",
       "      <td>Yamaha Fazer FI V 2.0 [2016-2018]</td>\n",
       "      <td>65000.0</td>\n",
       "      <td>2015</td>\n",
       "      <td>Individual</td>\n",
       "      <td>1st owner</td>\n",
       "      <td>23000</td>\n",
       "      <td>89643.0</td>\n",
       "      <td>7</td>\n",
       "      <td>5</td>\n",
       "    </tr>\n",
       "    <tr>\n",
       "      <th>4</th>\n",
       "      <td>4</td>\n",
       "      <td>Yamaha SZ [2013-2014]</td>\n",
       "      <td>20000.0</td>\n",
       "      <td>2011</td>\n",
       "      <td>Individual</td>\n",
       "      <td>2nd owner</td>\n",
       "      <td>21000</td>\n",
       "      <td>NaN</td>\n",
       "      <td>11</td>\n",
       "      <td>5</td>\n",
       "    </tr>\n",
       "  </tbody>\n",
       "</table>\n",
       "</div>"
      ],
      "text/plain": [
       "   id                                 name  selling_price  year seller_type  \\\n",
       "0   0            Royal Enfield Classic 350       175000.0  2019  Individual   \n",
       "1   1                            Honda Dio        45000.0  2017  Individual   \n",
       "2   2  Royal Enfield Classic Gunmetal Grey       150000.0  2018  Individual   \n",
       "3   3    Yamaha Fazer FI V 2.0 [2016-2018]        65000.0  2015  Individual   \n",
       "4   4                Yamaha SZ [2013-2014]        20000.0  2011  Individual   \n",
       "\n",
       "       owner  km_driven  ex_showroom_price  age  km_class  \n",
       "0  1st owner        350                NaN    3         1  \n",
       "1  1st owner       5650                NaN    5         2  \n",
       "2  1st owner      12000           148114.0    4         3  \n",
       "3  1st owner      23000            89643.0    7         5  \n",
       "4  2nd owner      21000                NaN   11         5  "
      ]
     },
     "execution_count": 91,
     "metadata": {},
     "output_type": "execute_result"
    }
   ],
   "source": [
    "df_raw['km_class'] = df_raw['km_driven'].apply( lambda km_driven: create_km_class(km_driven) )\n",
    "df_raw.head()"
   ]
  },
  {
   "cell_type": "markdown",
   "metadata": {},
   "source": [
    "### Criando a Coluna `km_per_year`"
   ]
  },
  {
   "cell_type": "code",
   "execution_count": 92,
   "metadata": {},
   "outputs": [
    {
     "data": {
      "text/html": [
       "<div>\n",
       "<style scoped>\n",
       "    .dataframe tbody tr th:only-of-type {\n",
       "        vertical-align: middle;\n",
       "    }\n",
       "\n",
       "    .dataframe tbody tr th {\n",
       "        vertical-align: top;\n",
       "    }\n",
       "\n",
       "    .dataframe thead th {\n",
       "        text-align: right;\n",
       "    }\n",
       "</style>\n",
       "<table border=\"1\" class=\"dataframe\">\n",
       "  <thead>\n",
       "    <tr style=\"text-align: right;\">\n",
       "      <th></th>\n",
       "      <th>id</th>\n",
       "      <th>name</th>\n",
       "      <th>selling_price</th>\n",
       "      <th>year</th>\n",
       "      <th>seller_type</th>\n",
       "      <th>owner</th>\n",
       "      <th>km_driven</th>\n",
       "      <th>ex_showroom_price</th>\n",
       "      <th>age</th>\n",
       "      <th>km_class</th>\n",
       "      <th>km_per_year</th>\n",
       "    </tr>\n",
       "  </thead>\n",
       "  <tbody>\n",
       "    <tr>\n",
       "      <th>0</th>\n",
       "      <td>0</td>\n",
       "      <td>Royal Enfield Classic 350</td>\n",
       "      <td>175000.0</td>\n",
       "      <td>2019</td>\n",
       "      <td>Individual</td>\n",
       "      <td>1st owner</td>\n",
       "      <td>350</td>\n",
       "      <td>NaN</td>\n",
       "      <td>3</td>\n",
       "      <td>1</td>\n",
       "      <td>116.667</td>\n",
       "    </tr>\n",
       "    <tr>\n",
       "      <th>1</th>\n",
       "      <td>1</td>\n",
       "      <td>Honda Dio</td>\n",
       "      <td>45000.0</td>\n",
       "      <td>2017</td>\n",
       "      <td>Individual</td>\n",
       "      <td>1st owner</td>\n",
       "      <td>5650</td>\n",
       "      <td>NaN</td>\n",
       "      <td>5</td>\n",
       "      <td>2</td>\n",
       "      <td>1130.000</td>\n",
       "    </tr>\n",
       "    <tr>\n",
       "      <th>2</th>\n",
       "      <td>2</td>\n",
       "      <td>Royal Enfield Classic Gunmetal Grey</td>\n",
       "      <td>150000.0</td>\n",
       "      <td>2018</td>\n",
       "      <td>Individual</td>\n",
       "      <td>1st owner</td>\n",
       "      <td>12000</td>\n",
       "      <td>148114.0</td>\n",
       "      <td>4</td>\n",
       "      <td>3</td>\n",
       "      <td>3000.000</td>\n",
       "    </tr>\n",
       "    <tr>\n",
       "      <th>3</th>\n",
       "      <td>3</td>\n",
       "      <td>Yamaha Fazer FI V 2.0 [2016-2018]</td>\n",
       "      <td>65000.0</td>\n",
       "      <td>2015</td>\n",
       "      <td>Individual</td>\n",
       "      <td>1st owner</td>\n",
       "      <td>23000</td>\n",
       "      <td>89643.0</td>\n",
       "      <td>7</td>\n",
       "      <td>5</td>\n",
       "      <td>3285.714</td>\n",
       "    </tr>\n",
       "    <tr>\n",
       "      <th>4</th>\n",
       "      <td>4</td>\n",
       "      <td>Yamaha SZ [2013-2014]</td>\n",
       "      <td>20000.0</td>\n",
       "      <td>2011</td>\n",
       "      <td>Individual</td>\n",
       "      <td>2nd owner</td>\n",
       "      <td>21000</td>\n",
       "      <td>NaN</td>\n",
       "      <td>11</td>\n",
       "      <td>5</td>\n",
       "      <td>1909.091</td>\n",
       "    </tr>\n",
       "  </tbody>\n",
       "</table>\n",
       "</div>"
      ],
      "text/plain": [
       "   id                                 name  selling_price  year seller_type  \\\n",
       "0   0            Royal Enfield Classic 350       175000.0  2019  Individual   \n",
       "1   1                            Honda Dio        45000.0  2017  Individual   \n",
       "2   2  Royal Enfield Classic Gunmetal Grey       150000.0  2018  Individual   \n",
       "3   3    Yamaha Fazer FI V 2.0 [2016-2018]        65000.0  2015  Individual   \n",
       "4   4                Yamaha SZ [2013-2014]        20000.0  2011  Individual   \n",
       "\n",
       "       owner  km_driven  ex_showroom_price  age  km_class  km_per_year  \n",
       "0  1st owner        350                NaN    3         1      116.667  \n",
       "1  1st owner       5650                NaN    5         2     1130.000  \n",
       "2  1st owner      12000           148114.0    4         3     3000.000  \n",
       "3  1st owner      23000            89643.0    7         5     3285.714  \n",
       "4  2nd owner      21000                NaN   11         5     1909.091  "
      ]
     },
     "execution_count": 92,
     "metadata": {},
     "output_type": "execute_result"
    }
   ],
   "source": [
    "df_raw['km_per_year'] = df_raw.apply( lambda line: round(line['km_driven'] / line['age'], 3), axis=1 )\n",
    "df_raw.head()"
   ]
  },
  {
   "cell_type": "markdown",
   "metadata": {},
   "source": [
    "### Criando a Coluna `km_per_month`"
   ]
  },
  {
   "cell_type": "code",
   "execution_count": 93,
   "metadata": {},
   "outputs": [
    {
     "data": {
      "text/html": [
       "<div>\n",
       "<style scoped>\n",
       "    .dataframe tbody tr th:only-of-type {\n",
       "        vertical-align: middle;\n",
       "    }\n",
       "\n",
       "    .dataframe tbody tr th {\n",
       "        vertical-align: top;\n",
       "    }\n",
       "\n",
       "    .dataframe thead th {\n",
       "        text-align: right;\n",
       "    }\n",
       "</style>\n",
       "<table border=\"1\" class=\"dataframe\">\n",
       "  <thead>\n",
       "    <tr style=\"text-align: right;\">\n",
       "      <th></th>\n",
       "      <th>id</th>\n",
       "      <th>name</th>\n",
       "      <th>selling_price</th>\n",
       "      <th>year</th>\n",
       "      <th>seller_type</th>\n",
       "      <th>owner</th>\n",
       "      <th>km_driven</th>\n",
       "      <th>ex_showroom_price</th>\n",
       "      <th>age</th>\n",
       "      <th>km_class</th>\n",
       "      <th>km_per_year</th>\n",
       "      <th>km_per_month</th>\n",
       "    </tr>\n",
       "  </thead>\n",
       "  <tbody>\n",
       "    <tr>\n",
       "      <th>0</th>\n",
       "      <td>0</td>\n",
       "      <td>Royal Enfield Classic 350</td>\n",
       "      <td>175000.0</td>\n",
       "      <td>2019</td>\n",
       "      <td>Individual</td>\n",
       "      <td>1st owner</td>\n",
       "      <td>350</td>\n",
       "      <td>NaN</td>\n",
       "      <td>3</td>\n",
       "      <td>1</td>\n",
       "      <td>116.667</td>\n",
       "      <td>9.722</td>\n",
       "    </tr>\n",
       "    <tr>\n",
       "      <th>1</th>\n",
       "      <td>1</td>\n",
       "      <td>Honda Dio</td>\n",
       "      <td>45000.0</td>\n",
       "      <td>2017</td>\n",
       "      <td>Individual</td>\n",
       "      <td>1st owner</td>\n",
       "      <td>5650</td>\n",
       "      <td>NaN</td>\n",
       "      <td>5</td>\n",
       "      <td>2</td>\n",
       "      <td>1130.000</td>\n",
       "      <td>94.167</td>\n",
       "    </tr>\n",
       "    <tr>\n",
       "      <th>2</th>\n",
       "      <td>2</td>\n",
       "      <td>Royal Enfield Classic Gunmetal Grey</td>\n",
       "      <td>150000.0</td>\n",
       "      <td>2018</td>\n",
       "      <td>Individual</td>\n",
       "      <td>1st owner</td>\n",
       "      <td>12000</td>\n",
       "      <td>148114.0</td>\n",
       "      <td>4</td>\n",
       "      <td>3</td>\n",
       "      <td>3000.000</td>\n",
       "      <td>250.000</td>\n",
       "    </tr>\n",
       "    <tr>\n",
       "      <th>3</th>\n",
       "      <td>3</td>\n",
       "      <td>Yamaha Fazer FI V 2.0 [2016-2018]</td>\n",
       "      <td>65000.0</td>\n",
       "      <td>2015</td>\n",
       "      <td>Individual</td>\n",
       "      <td>1st owner</td>\n",
       "      <td>23000</td>\n",
       "      <td>89643.0</td>\n",
       "      <td>7</td>\n",
       "      <td>5</td>\n",
       "      <td>3285.714</td>\n",
       "      <td>273.810</td>\n",
       "    </tr>\n",
       "    <tr>\n",
       "      <th>4</th>\n",
       "      <td>4</td>\n",
       "      <td>Yamaha SZ [2013-2014]</td>\n",
       "      <td>20000.0</td>\n",
       "      <td>2011</td>\n",
       "      <td>Individual</td>\n",
       "      <td>2nd owner</td>\n",
       "      <td>21000</td>\n",
       "      <td>NaN</td>\n",
       "      <td>11</td>\n",
       "      <td>5</td>\n",
       "      <td>1909.091</td>\n",
       "      <td>159.091</td>\n",
       "    </tr>\n",
       "  </tbody>\n",
       "</table>\n",
       "</div>"
      ],
      "text/plain": [
       "   id                                 name  selling_price  year seller_type  \\\n",
       "0   0            Royal Enfield Classic 350       175000.0  2019  Individual   \n",
       "1   1                            Honda Dio        45000.0  2017  Individual   \n",
       "2   2  Royal Enfield Classic Gunmetal Grey       150000.0  2018  Individual   \n",
       "3   3    Yamaha Fazer FI V 2.0 [2016-2018]        65000.0  2015  Individual   \n",
       "4   4                Yamaha SZ [2013-2014]        20000.0  2011  Individual   \n",
       "\n",
       "       owner  km_driven  ex_showroom_price  age  km_class  km_per_year  \\\n",
       "0  1st owner        350                NaN    3         1      116.667   \n",
       "1  1st owner       5650                NaN    5         2     1130.000   \n",
       "2  1st owner      12000           148114.0    4         3     3000.000   \n",
       "3  1st owner      23000            89643.0    7         5     3285.714   \n",
       "4  2nd owner      21000                NaN   11         5     1909.091   \n",
       "\n",
       "   km_per_month  \n",
       "0         9.722  \n",
       "1        94.167  \n",
       "2       250.000  \n",
       "3       273.810  \n",
       "4       159.091  "
      ]
     },
     "execution_count": 93,
     "metadata": {},
     "output_type": "execute_result"
    }
   ],
   "source": [
    "df_raw['km_per_month'] = df_raw.apply( lambda line: round(line['km_per_year'] / 12, 3), axis=1 )\n",
    "df_raw.head()"
   ]
  },
  {
   "cell_type": "markdown",
   "metadata": {},
   "source": [
    "### Criando a coluna `company`"
   ]
  },
  {
   "cell_type": "code",
   "execution_count": 94,
   "metadata": {},
   "outputs": [
    {
     "data": {
      "text/html": [
       "<div>\n",
       "<style scoped>\n",
       "    .dataframe tbody tr th:only-of-type {\n",
       "        vertical-align: middle;\n",
       "    }\n",
       "\n",
       "    .dataframe tbody tr th {\n",
       "        vertical-align: top;\n",
       "    }\n",
       "\n",
       "    .dataframe thead th {\n",
       "        text-align: right;\n",
       "    }\n",
       "</style>\n",
       "<table border=\"1\" class=\"dataframe\">\n",
       "  <thead>\n",
       "    <tr style=\"text-align: right;\">\n",
       "      <th></th>\n",
       "      <th>id</th>\n",
       "      <th>name</th>\n",
       "      <th>selling_price</th>\n",
       "      <th>year</th>\n",
       "      <th>seller_type</th>\n",
       "      <th>owner</th>\n",
       "      <th>km_driven</th>\n",
       "      <th>ex_showroom_price</th>\n",
       "      <th>age</th>\n",
       "      <th>km_class</th>\n",
       "      <th>km_per_year</th>\n",
       "      <th>km_per_month</th>\n",
       "      <th>company</th>\n",
       "    </tr>\n",
       "  </thead>\n",
       "  <tbody>\n",
       "    <tr>\n",
       "      <th>0</th>\n",
       "      <td>0</td>\n",
       "      <td>Royal Enfield Classic 350</td>\n",
       "      <td>175000.0</td>\n",
       "      <td>2019</td>\n",
       "      <td>Individual</td>\n",
       "      <td>1st owner</td>\n",
       "      <td>350</td>\n",
       "      <td>NaN</td>\n",
       "      <td>3</td>\n",
       "      <td>1</td>\n",
       "      <td>116.667</td>\n",
       "      <td>9.722</td>\n",
       "      <td>Royal Enfield</td>\n",
       "    </tr>\n",
       "    <tr>\n",
       "      <th>1</th>\n",
       "      <td>1</td>\n",
       "      <td>Honda Dio</td>\n",
       "      <td>45000.0</td>\n",
       "      <td>2017</td>\n",
       "      <td>Individual</td>\n",
       "      <td>1st owner</td>\n",
       "      <td>5650</td>\n",
       "      <td>NaN</td>\n",
       "      <td>5</td>\n",
       "      <td>2</td>\n",
       "      <td>1130.000</td>\n",
       "      <td>94.167</td>\n",
       "      <td>Honda</td>\n",
       "    </tr>\n",
       "    <tr>\n",
       "      <th>2</th>\n",
       "      <td>2</td>\n",
       "      <td>Royal Enfield Classic Gunmetal Grey</td>\n",
       "      <td>150000.0</td>\n",
       "      <td>2018</td>\n",
       "      <td>Individual</td>\n",
       "      <td>1st owner</td>\n",
       "      <td>12000</td>\n",
       "      <td>148114.0</td>\n",
       "      <td>4</td>\n",
       "      <td>3</td>\n",
       "      <td>3000.000</td>\n",
       "      <td>250.000</td>\n",
       "      <td>Royal Enfield</td>\n",
       "    </tr>\n",
       "    <tr>\n",
       "      <th>3</th>\n",
       "      <td>3</td>\n",
       "      <td>Yamaha Fazer FI V 2.0 [2016-2018]</td>\n",
       "      <td>65000.0</td>\n",
       "      <td>2015</td>\n",
       "      <td>Individual</td>\n",
       "      <td>1st owner</td>\n",
       "      <td>23000</td>\n",
       "      <td>89643.0</td>\n",
       "      <td>7</td>\n",
       "      <td>5</td>\n",
       "      <td>3285.714</td>\n",
       "      <td>273.810</td>\n",
       "      <td>Yamaha</td>\n",
       "    </tr>\n",
       "    <tr>\n",
       "      <th>4</th>\n",
       "      <td>4</td>\n",
       "      <td>Yamaha SZ [2013-2014]</td>\n",
       "      <td>20000.0</td>\n",
       "      <td>2011</td>\n",
       "      <td>Individual</td>\n",
       "      <td>2nd owner</td>\n",
       "      <td>21000</td>\n",
       "      <td>NaN</td>\n",
       "      <td>11</td>\n",
       "      <td>5</td>\n",
       "      <td>1909.091</td>\n",
       "      <td>159.091</td>\n",
       "      <td>Yamaha</td>\n",
       "    </tr>\n",
       "  </tbody>\n",
       "</table>\n",
       "</div>"
      ],
      "text/plain": [
       "   id                                 name  selling_price  year seller_type  \\\n",
       "0   0            Royal Enfield Classic 350       175000.0  2019  Individual   \n",
       "1   1                            Honda Dio        45000.0  2017  Individual   \n",
       "2   2  Royal Enfield Classic Gunmetal Grey       150000.0  2018  Individual   \n",
       "3   3    Yamaha Fazer FI V 2.0 [2016-2018]        65000.0  2015  Individual   \n",
       "4   4                Yamaha SZ [2013-2014]        20000.0  2011  Individual   \n",
       "\n",
       "       owner  km_driven  ex_showroom_price  age  km_class  km_per_year  \\\n",
       "0  1st owner        350                NaN    3         1      116.667   \n",
       "1  1st owner       5650                NaN    5         2     1130.000   \n",
       "2  1st owner      12000           148114.0    4         3     3000.000   \n",
       "3  1st owner      23000            89643.0    7         5     3285.714   \n",
       "4  2nd owner      21000                NaN   11         5     1909.091   \n",
       "\n",
       "   km_per_month        company  \n",
       "0         9.722  Royal Enfield  \n",
       "1        94.167          Honda  \n",
       "2       250.000  Royal Enfield  \n",
       "3       273.810         Yamaha  \n",
       "4       159.091         Yamaha  "
      ]
     },
     "execution_count": 94,
     "metadata": {},
     "output_type": "execute_result"
    }
   ],
   "source": [
    "# Lendo o dataset de fabricantes\n",
    "companies = pd.read_csv('../data/raw/companies.csv', index_col=0)\n",
    "\n",
    "# Método novo\n",
    "companies_tuple = create_sorted_companies_tuple(companies)\n",
    "\n",
    "# Criando a coluna `company` no DataFrame\n",
    "df_raw['company'] = df_raw.apply(lambda line: create_company_name(companies_tuple, line), axis=1)\n",
    "\n",
    "df_raw.head()"
   ]
  },
  {
   "cell_type": "markdown",
   "metadata": {},
   "source": [
    "### Descrição das Colunas"
   ]
  },
  {
   "cell_type": "markdown",
   "metadata": {},
   "source": [
    "| Coluna | Descrição |\n",
    "| :----- | --------: |\n",
    "| ID | Identificador da linha/registro |\n",
    "| name | Fabricante e Modelo da Moto |\n",
    "| selling_price | Preço de Venda |\n",
    "| year | Ano de Fabricação da Moto |\n",
    "| seller_type | Tipo de Vendedor - Se é vendedor pessoal ou revendedor |\n",
    "| owner | Se é primeiro, segundo, terceiro ou quarto dono da moto |\n",
    "| km_driven | Quantidade de Quilometros percorrido pela moto |\n",
    "| ex_showroom_price | Preço da motocicleta sem as taxas de seguro e registro |\n",
    "| age | Quantidade de anos em que a moto está em uso |\n",
    "| km_class | Classificação das motos conforme a quilometragem percorrida |\n",
    "| km_per_year | Quantidade de Quilometros percorridos a cada ano |\n",
    "| km_per_month | Quantidade de Quilometros percorridos por mês |\n",
    "| company | Fabricanete da Motocicleta |"
   ]
  },
  {
   "cell_type": "markdown",
   "metadata": {},
   "source": [
    "## Respondendo as Perguntas"
   ]
  },
  {
   "cell_type": "markdown",
   "metadata": {},
   "source": [
    "### Primeira Rodada"
   ]
  },
  {
   "cell_type": "code",
   "execution_count": 95,
   "metadata": {},
   "outputs": [],
   "source": [
    "df1 = df_raw.copy()"
   ]
  },
  {
   "cell_type": "markdown",
   "id": "b3cb9c69",
   "metadata": {},
   "source": [
    "#### 1. Quantas motos temos dentro do Dataset?"
   ]
  },
  {
   "cell_type": "markdown",
   "id": "74c76201",
   "metadata": {},
   "source": [
    "##### Planejamento"
   ]
  },
  {
   "cell_type": "markdown",
   "id": "00b3f049",
   "metadata": {},
   "source": [
    "Verificar a quantidade de linhas que existem dentro do dataset"
   ]
  },
  {
   "cell_type": "markdown",
   "id": "0a414510",
   "metadata": {},
   "source": [
    "##### Resolução"
   ]
  },
  {
   "cell_type": "code",
   "execution_count": 96,
   "id": "d8cc0791",
   "metadata": {},
   "outputs": [
    {
     "name": "stdout",
     "output_type": "stream",
     "text": [
      "A quantidade de motos registradas no Dataset é de 1061 motos\n"
     ]
    }
   ],
   "source": [
    "print(f'A quantidade de motos registradas no Dataset é de {df1.shape[0]} motos')"
   ]
  },
  {
   "cell_type": "markdown",
   "id": "6aa6a5e9",
   "metadata": {},
   "source": [
    "#### 2. Qual é o ano da moto mais antiga da base de dados?"
   ]
  },
  {
   "cell_type": "markdown",
   "id": "6dacea3b",
   "metadata": {},
   "source": [
    "##### Planejamento"
   ]
  },
  {
   "cell_type": "markdown",
   "id": "62ef3781",
   "metadata": {},
   "source": [
    "Verificar qual o menor valor da coluna `year` da base de dados"
   ]
  },
  {
   "cell_type": "markdown",
   "id": "064176e1",
   "metadata": {},
   "source": [
    "##### Resolução"
   ]
  },
  {
   "cell_type": "code",
   "execution_count": 97,
   "id": "699641a1",
   "metadata": {},
   "outputs": [
    {
     "data": {
      "text/html": [
       "<div>\n",
       "<style scoped>\n",
       "    .dataframe tbody tr th:only-of-type {\n",
       "        vertical-align: middle;\n",
       "    }\n",
       "\n",
       "    .dataframe tbody tr th {\n",
       "        vertical-align: top;\n",
       "    }\n",
       "\n",
       "    .dataframe thead th {\n",
       "        text-align: right;\n",
       "    }\n",
       "</style>\n",
       "<table border=\"1\" class=\"dataframe\">\n",
       "  <thead>\n",
       "    <tr style=\"text-align: right;\">\n",
       "      <th></th>\n",
       "      <th>id</th>\n",
       "      <th>name</th>\n",
       "      <th>selling_price</th>\n",
       "      <th>year</th>\n",
       "      <th>seller_type</th>\n",
       "      <th>owner</th>\n",
       "      <th>km_driven</th>\n",
       "      <th>ex_showroom_price</th>\n",
       "      <th>age</th>\n",
       "      <th>km_class</th>\n",
       "      <th>km_per_year</th>\n",
       "      <th>km_per_month</th>\n",
       "      <th>company</th>\n",
       "    </tr>\n",
       "  </thead>\n",
       "  <tbody>\n",
       "    <tr>\n",
       "      <th>468</th>\n",
       "      <td>468</td>\n",
       "      <td>Bajaj Super</td>\n",
       "      <td>20000.0</td>\n",
       "      <td>1988</td>\n",
       "      <td>Individual</td>\n",
       "      <td>1st owner</td>\n",
       "      <td>21000</td>\n",
       "      <td>NaN</td>\n",
       "      <td>34</td>\n",
       "      <td>5</td>\n",
       "      <td>617.647</td>\n",
       "      <td>51.471</td>\n",
       "      <td>Bajaj</td>\n",
       "    </tr>\n",
       "  </tbody>\n",
       "</table>\n",
       "</div>"
      ],
      "text/plain": [
       "      id         name  selling_price  year seller_type      owner  km_driven  \\\n",
       "468  468  Bajaj Super        20000.0  1988  Individual  1st owner      21000   \n",
       "\n",
       "     ex_showroom_price  age  km_class  km_per_year  km_per_month company  \n",
       "468                NaN   34         5      617.647        51.471   Bajaj  "
      ]
     },
     "execution_count": 97,
     "metadata": {},
     "output_type": "execute_result"
    }
   ],
   "source": [
    "antiga = df1[df1['year'] == df1['year'].min()]\n",
    "antiga"
   ]
  },
  {
   "cell_type": "code",
   "execution_count": 98,
   "id": "cbec2d7c",
   "metadata": {},
   "outputs": [
    {
     "name": "stdout",
     "output_type": "stream",
     "text": [
      "O ano da moto mais antiga é 1988\n"
     ]
    }
   ],
   "source": [
    "print(f'O ano da moto mais antiga é {antiga.iloc[0,3]}')"
   ]
  },
  {
   "cell_type": "markdown",
   "id": "eb3a9242",
   "metadata": {},
   "source": [
    "#### 3. Qual é o ano da moto mais nova da base de dados?"
   ]
  },
  {
   "cell_type": "markdown",
   "id": "69aa7be7",
   "metadata": {},
   "source": [
    "##### Planejamento"
   ]
  },
  {
   "cell_type": "markdown",
   "id": "4c8991ed",
   "metadata": {},
   "source": [
    "Verificar qual é o maior valor da coluna `year`"
   ]
  },
  {
   "cell_type": "markdown",
   "id": "e4b03f2d",
   "metadata": {},
   "source": [
    "##### Resolução"
   ]
  },
  {
   "cell_type": "code",
   "execution_count": 99,
   "id": "34820af1",
   "metadata": {},
   "outputs": [
    {
     "data": {
      "text/html": [
       "<div>\n",
       "<style scoped>\n",
       "    .dataframe tbody tr th:only-of-type {\n",
       "        vertical-align: middle;\n",
       "    }\n",
       "\n",
       "    .dataframe tbody tr th {\n",
       "        vertical-align: top;\n",
       "    }\n",
       "\n",
       "    .dataframe thead th {\n",
       "        text-align: right;\n",
       "    }\n",
       "</style>\n",
       "<table border=\"1\" class=\"dataframe\">\n",
       "  <thead>\n",
       "    <tr style=\"text-align: right;\">\n",
       "      <th></th>\n",
       "      <th>id</th>\n",
       "      <th>name</th>\n",
       "      <th>selling_price</th>\n",
       "      <th>year</th>\n",
       "      <th>seller_type</th>\n",
       "      <th>owner</th>\n",
       "      <th>km_driven</th>\n",
       "      <th>ex_showroom_price</th>\n",
       "      <th>age</th>\n",
       "      <th>km_class</th>\n",
       "      <th>km_per_year</th>\n",
       "      <th>km_per_month</th>\n",
       "      <th>company</th>\n",
       "    </tr>\n",
       "  </thead>\n",
       "  <tbody>\n",
       "    <tr>\n",
       "      <th>14</th>\n",
       "      <td>14</td>\n",
       "      <td>Jawa 42</td>\n",
       "      <td>185000.0</td>\n",
       "      <td>2020</td>\n",
       "      <td>Individual</td>\n",
       "      <td>1st owner</td>\n",
       "      <td>1700</td>\n",
       "      <td>NaN</td>\n",
       "      <td>2</td>\n",
       "      <td>1</td>\n",
       "      <td>850.0</td>\n",
       "      <td>70.833</td>\n",
       "      <td>Jawa</td>\n",
       "    </tr>\n",
       "    <tr>\n",
       "      <th>101</th>\n",
       "      <td>101</td>\n",
       "      <td>Royal Enfield Classic 350</td>\n",
       "      <td>175000.0</td>\n",
       "      <td>2020</td>\n",
       "      <td>Individual</td>\n",
       "      <td>1st owner</td>\n",
       "      <td>500</td>\n",
       "      <td>NaN</td>\n",
       "      <td>2</td>\n",
       "      <td>1</td>\n",
       "      <td>250.0</td>\n",
       "      <td>20.833</td>\n",
       "      <td>Royal Enfield</td>\n",
       "    </tr>\n",
       "    <tr>\n",
       "      <th>136</th>\n",
       "      <td>136</td>\n",
       "      <td>Royal Enfield Classic Gunmetal Grey</td>\n",
       "      <td>190000.0</td>\n",
       "      <td>2020</td>\n",
       "      <td>Individual</td>\n",
       "      <td>1st owner</td>\n",
       "      <td>500</td>\n",
       "      <td>155740.0</td>\n",
       "      <td>2</td>\n",
       "      <td>1</td>\n",
       "      <td>250.0</td>\n",
       "      <td>20.833</td>\n",
       "      <td>Royal Enfield</td>\n",
       "    </tr>\n",
       "  </tbody>\n",
       "</table>\n",
       "</div>"
      ],
      "text/plain": [
       "      id                                 name  selling_price  year  \\\n",
       "14    14                              Jawa 42       185000.0  2020   \n",
       "101  101            Royal Enfield Classic 350       175000.0  2020   \n",
       "136  136  Royal Enfield Classic Gunmetal Grey       190000.0  2020   \n",
       "\n",
       "    seller_type      owner  km_driven  ex_showroom_price  age  km_class  \\\n",
       "14   Individual  1st owner       1700                NaN    2         1   \n",
       "101  Individual  1st owner        500                NaN    2         1   \n",
       "136  Individual  1st owner        500           155740.0    2         1   \n",
       "\n",
       "     km_per_year  km_per_month        company  \n",
       "14         850.0        70.833           Jawa  \n",
       "101        250.0        20.833  Royal Enfield  \n",
       "136        250.0        20.833  Royal Enfield  "
      ]
     },
     "execution_count": 99,
     "metadata": {},
     "output_type": "execute_result"
    }
   ],
   "source": [
    "nova = df_raw[df_raw['year'] == df_raw['year'].max()]\n",
    "nova"
   ]
  },
  {
   "cell_type": "code",
   "execution_count": 100,
   "id": "da975530",
   "metadata": {},
   "outputs": [
    {
     "name": "stdout",
     "output_type": "stream",
     "text": [
      "O da moto mais nova é 2020\n"
     ]
    }
   ],
   "source": [
    "print(f'O da moto mais nova é {nova.iloc[0, 3]}')"
   ]
  },
  {
   "cell_type": "markdown",
   "id": "3ddd42ae",
   "metadata": {},
   "source": [
    "#### 4. Qual é o valor da moto mais cara da base de dados?"
   ]
  },
  {
   "cell_type": "markdown",
   "id": "aa37f289",
   "metadata": {},
   "source": [
    "##### Planejamento"
   ]
  },
  {
   "cell_type": "markdown",
   "id": "48e71e72",
   "metadata": {},
   "source": [
    "Verificar qual é o maior valor da coluna `selling_price`"
   ]
  },
  {
   "cell_type": "markdown",
   "id": "3d27e322",
   "metadata": {},
   "source": [
    "##### Resposta"
   ]
  },
  {
   "cell_type": "code",
   "execution_count": 101,
   "id": "19eb7906",
   "metadata": {},
   "outputs": [
    {
     "data": {
      "text/html": [
       "<div>\n",
       "<style scoped>\n",
       "    .dataframe tbody tr th:only-of-type {\n",
       "        vertical-align: middle;\n",
       "    }\n",
       "\n",
       "    .dataframe tbody tr th {\n",
       "        vertical-align: top;\n",
       "    }\n",
       "\n",
       "    .dataframe thead th {\n",
       "        text-align: right;\n",
       "    }\n",
       "</style>\n",
       "<table border=\"1\" class=\"dataframe\">\n",
       "  <thead>\n",
       "    <tr style=\"text-align: right;\">\n",
       "      <th></th>\n",
       "      <th>id</th>\n",
       "      <th>name</th>\n",
       "      <th>selling_price</th>\n",
       "      <th>year</th>\n",
       "      <th>seller_type</th>\n",
       "      <th>owner</th>\n",
       "      <th>km_driven</th>\n",
       "      <th>ex_showroom_price</th>\n",
       "      <th>age</th>\n",
       "      <th>km_class</th>\n",
       "      <th>km_per_year</th>\n",
       "      <th>km_per_month</th>\n",
       "      <th>company</th>\n",
       "    </tr>\n",
       "  </thead>\n",
       "  <tbody>\n",
       "    <tr>\n",
       "      <th>295</th>\n",
       "      <td>295</td>\n",
       "      <td>Suzuki GSX S750</td>\n",
       "      <td>760000.0</td>\n",
       "      <td>2019</td>\n",
       "      <td>Individual</td>\n",
       "      <td>1st owner</td>\n",
       "      <td>2800</td>\n",
       "      <td>752020.0</td>\n",
       "      <td>3</td>\n",
       "      <td>1</td>\n",
       "      <td>933.333</td>\n",
       "      <td>77.778</td>\n",
       "      <td>Suzuki</td>\n",
       "    </tr>\n",
       "  </tbody>\n",
       "</table>\n",
       "</div>"
      ],
      "text/plain": [
       "      id             name  selling_price  year seller_type      owner  \\\n",
       "295  295  Suzuki GSX S750       760000.0  2019  Individual  1st owner   \n",
       "\n",
       "     km_driven  ex_showroom_price  age  km_class  km_per_year  km_per_month  \\\n",
       "295       2800           752020.0    3         1      933.333        77.778   \n",
       "\n",
       "    company  \n",
       "295  Suzuki  "
      ]
     },
     "execution_count": 101,
     "metadata": {},
     "output_type": "execute_result"
    }
   ],
   "source": [
    "cara = df1[df1['selling_price'] == df1['selling_price'].max()]\n",
    "cara"
   ]
  },
  {
   "cell_type": "code",
   "execution_count": 102,
   "id": "6a34d040",
   "metadata": {},
   "outputs": [
    {
     "name": "stdout",
     "output_type": "stream",
     "text": [
      "O valor da mot mais cara da base de dados é U$ 760000.00\n"
     ]
    }
   ],
   "source": [
    "print(f'O valor da mot mais cara da base de dados é U$ {cara.iloc[0, 2]:.2f}')"
   ]
  },
  {
   "cell_type": "markdown",
   "id": "b1dd646b",
   "metadata": {},
   "source": [
    "#### 5. Qual é o valor do hodômotro da moto com a maior quilometragem?"
   ]
  },
  {
   "cell_type": "markdown",
   "id": "ded7908c",
   "metadata": {},
   "source": [
    "##### Planejamento"
   ]
  },
  {
   "cell_type": "markdown",
   "id": "ef3c4135",
   "metadata": {},
   "source": [
    "Verificar qual é o maior valor da coluna `km_driven`"
   ]
  },
  {
   "cell_type": "markdown",
   "id": "730dd381",
   "metadata": {},
   "source": [
    "##### Resolução"
   ]
  },
  {
   "cell_type": "code",
   "execution_count": 103,
   "id": "16aa489f",
   "metadata": {},
   "outputs": [
    {
     "data": {
      "text/html": [
       "<div>\n",
       "<style scoped>\n",
       "    .dataframe tbody tr th:only-of-type {\n",
       "        vertical-align: middle;\n",
       "    }\n",
       "\n",
       "    .dataframe tbody tr th {\n",
       "        vertical-align: top;\n",
       "    }\n",
       "\n",
       "    .dataframe thead th {\n",
       "        text-align: right;\n",
       "    }\n",
       "</style>\n",
       "<table border=\"1\" class=\"dataframe\">\n",
       "  <thead>\n",
       "    <tr style=\"text-align: right;\">\n",
       "      <th></th>\n",
       "      <th>id</th>\n",
       "      <th>name</th>\n",
       "      <th>selling_price</th>\n",
       "      <th>year</th>\n",
       "      <th>seller_type</th>\n",
       "      <th>owner</th>\n",
       "      <th>km_driven</th>\n",
       "      <th>ex_showroom_price</th>\n",
       "      <th>age</th>\n",
       "      <th>km_class</th>\n",
       "      <th>km_per_year</th>\n",
       "      <th>km_per_month</th>\n",
       "      <th>company</th>\n",
       "    </tr>\n",
       "  </thead>\n",
       "  <tbody>\n",
       "    <tr>\n",
       "      <th>642</th>\n",
       "      <td>642</td>\n",
       "      <td>TVS Apache RTR 160</td>\n",
       "      <td>15000.0</td>\n",
       "      <td>2009</td>\n",
       "      <td>Individual</td>\n",
       "      <td>4th owner</td>\n",
       "      <td>880000</td>\n",
       "      <td>NaN</td>\n",
       "      <td>13</td>\n",
       "      <td>176</td>\n",
       "      <td>67692.308</td>\n",
       "      <td>5641.026</td>\n",
       "      <td>TVS</td>\n",
       "    </tr>\n",
       "  </tbody>\n",
       "</table>\n",
       "</div>"
      ],
      "text/plain": [
       "      id                name  selling_price  year seller_type      owner  \\\n",
       "642  642  TVS Apache RTR 160        15000.0  2009  Individual  4th owner   \n",
       "\n",
       "     km_driven  ex_showroom_price  age  km_class  km_per_year  km_per_month  \\\n",
       "642     880000                NaN   13       176    67692.308      5641.026   \n",
       "\n",
       "    company  \n",
       "642     TVS  "
      ]
     },
     "execution_count": 103,
     "metadata": {},
     "output_type": "execute_result"
    }
   ],
   "source": [
    "maior_km = df1[df1['km_driven'] == df1['km_driven'].max()]\n",
    "maior_km\n"
   ]
  },
  {
   "cell_type": "code",
   "execution_count": 104,
   "id": "71a1f902",
   "metadata": {},
   "outputs": [
    {
     "name": "stdout",
     "output_type": "stream",
     "text": [
      "A moto que possui a maior quilometragem da base de dados andou 880000 Km\n"
     ]
    }
   ],
   "source": [
    "print(f'A moto que possui a maior quilometragem da base de dados andou {maior_km.iloc[0, 6]} Km')"
   ]
  },
  {
   "cell_type": "markdown",
   "id": "f44b9ca8",
   "metadata": {},
   "source": [
    "#### 6. Qual é o valor do hodômotro da moto com a menor quiilometragem?"
   ]
  },
  {
   "cell_type": "markdown",
   "id": "195c9e9f",
   "metadata": {},
   "source": [
    "##### Planejamento"
   ]
  },
  {
   "cell_type": "markdown",
   "id": "7e75213f",
   "metadata": {},
   "source": [
    "Verificar qual é o menor valor da coluna `km_driven`"
   ]
  },
  {
   "cell_type": "markdown",
   "id": "a2563bf9",
   "metadata": {},
   "source": [
    "##### Resposta"
   ]
  },
  {
   "cell_type": "code",
   "execution_count": 105,
   "id": "8af9ba86",
   "metadata": {},
   "outputs": [
    {
     "data": {
      "text/html": [
       "<div>\n",
       "<style scoped>\n",
       "    .dataframe tbody tr th:only-of-type {\n",
       "        vertical-align: middle;\n",
       "    }\n",
       "\n",
       "    .dataframe tbody tr th {\n",
       "        vertical-align: top;\n",
       "    }\n",
       "\n",
       "    .dataframe thead th {\n",
       "        text-align: right;\n",
       "    }\n",
       "</style>\n",
       "<table border=\"1\" class=\"dataframe\">\n",
       "  <thead>\n",
       "    <tr style=\"text-align: right;\">\n",
       "      <th></th>\n",
       "      <th>id</th>\n",
       "      <th>name</th>\n",
       "      <th>selling_price</th>\n",
       "      <th>year</th>\n",
       "      <th>seller_type</th>\n",
       "      <th>owner</th>\n",
       "      <th>km_driven</th>\n",
       "      <th>ex_showroom_price</th>\n",
       "      <th>age</th>\n",
       "      <th>km_class</th>\n",
       "      <th>km_per_year</th>\n",
       "      <th>km_per_month</th>\n",
       "      <th>company</th>\n",
       "    </tr>\n",
       "  </thead>\n",
       "  <tbody>\n",
       "    <tr>\n",
       "      <th>0</th>\n",
       "      <td>0</td>\n",
       "      <td>Royal Enfield Classic 350</td>\n",
       "      <td>175000.0</td>\n",
       "      <td>2019</td>\n",
       "      <td>Individual</td>\n",
       "      <td>1st owner</td>\n",
       "      <td>350</td>\n",
       "      <td>NaN</td>\n",
       "      <td>3</td>\n",
       "      <td>1</td>\n",
       "      <td>116.667</td>\n",
       "      <td>9.722</td>\n",
       "      <td>Royal Enfield</td>\n",
       "    </tr>\n",
       "  </tbody>\n",
       "</table>\n",
       "</div>"
      ],
      "text/plain": [
       "   id                       name  selling_price  year seller_type      owner  \\\n",
       "0   0  Royal Enfield Classic 350       175000.0  2019  Individual  1st owner   \n",
       "\n",
       "   km_driven  ex_showroom_price  age  km_class  km_per_year  km_per_month  \\\n",
       "0        350                NaN    3         1      116.667         9.722   \n",
       "\n",
       "         company  \n",
       "0  Royal Enfield  "
      ]
     },
     "execution_count": 105,
     "metadata": {},
     "output_type": "execute_result"
    }
   ],
   "source": [
    "menor_km = df1[df1['km_driven'] == df1['km_driven'].min()]\n",
    "menor_km"
   ]
  },
  {
   "cell_type": "code",
   "execution_count": 106,
   "id": "8ac703b2",
   "metadata": {},
   "outputs": [
    {
     "name": "stdout",
     "output_type": "stream",
     "text": [
      "A moto que possui a menor quilometragem da base de dados andou 350 Km\n"
     ]
    }
   ],
   "source": [
    "print(f'A moto que possui a menor quilometragem da base de dados andou {menor_km.iloc[0, 6]} Km')"
   ]
  },
  {
   "cell_type": "markdown",
   "id": "7c29cbd6",
   "metadata": {},
   "source": [
    "#### 7. Das motos que possuem o valor de venda sem as taxas de registro e seguro, qual seria o maior valor registrado na base de dados para essa coluna?"
   ]
  },
  {
   "cell_type": "markdown",
   "id": "3c71b418",
   "metadata": {},
   "source": [
    "##### Planejamento"
   ]
  },
  {
   "cell_type": "markdown",
   "id": "ffd30eec",
   "metadata": {},
   "source": [
    "Verificar qual é o maior valor registrado na coluna `ex_showroom_price`"
   ]
  },
  {
   "cell_type": "markdown",
   "id": "124d0974",
   "metadata": {},
   "source": [
    "##### Resposta"
   ]
  },
  {
   "cell_type": "code",
   "execution_count": 107,
   "id": "0c4a4d39",
   "metadata": {},
   "outputs": [
    {
     "data": {
      "text/html": [
       "<div>\n",
       "<style scoped>\n",
       "    .dataframe tbody tr th:only-of-type {\n",
       "        vertical-align: middle;\n",
       "    }\n",
       "\n",
       "    .dataframe tbody tr th {\n",
       "        vertical-align: top;\n",
       "    }\n",
       "\n",
       "    .dataframe thead th {\n",
       "        text-align: right;\n",
       "    }\n",
       "</style>\n",
       "<table border=\"1\" class=\"dataframe\">\n",
       "  <thead>\n",
       "    <tr style=\"text-align: right;\">\n",
       "      <th></th>\n",
       "      <th>id</th>\n",
       "      <th>name</th>\n",
       "      <th>selling_price</th>\n",
       "      <th>year</th>\n",
       "      <th>seller_type</th>\n",
       "      <th>owner</th>\n",
       "      <th>km_driven</th>\n",
       "      <th>ex_showroom_price</th>\n",
       "      <th>age</th>\n",
       "      <th>km_class</th>\n",
       "      <th>km_per_year</th>\n",
       "      <th>km_per_month</th>\n",
       "      <th>company</th>\n",
       "    </tr>\n",
       "  </thead>\n",
       "  <tbody>\n",
       "    <tr>\n",
       "      <th>134</th>\n",
       "      <td>134</td>\n",
       "      <td>Harley-Davidson Street Bob</td>\n",
       "      <td>750000.0</td>\n",
       "      <td>2013</td>\n",
       "      <td>Individual</td>\n",
       "      <td>2nd owner</td>\n",
       "      <td>12000</td>\n",
       "      <td>1278000.0</td>\n",
       "      <td>9</td>\n",
       "      <td>3</td>\n",
       "      <td>1333.333</td>\n",
       "      <td>111.111</td>\n",
       "      <td>Harley-Davidson</td>\n",
       "    </tr>\n",
       "  </tbody>\n",
       "</table>\n",
       "</div>"
      ],
      "text/plain": [
       "      id                        name  selling_price  year seller_type  \\\n",
       "134  134  Harley-Davidson Street Bob       750000.0  2013  Individual   \n",
       "\n",
       "         owner  km_driven  ex_showroom_price  age  km_class  km_per_year  \\\n",
       "134  2nd owner      12000          1278000.0    9         3     1333.333   \n",
       "\n",
       "     km_per_month          company  \n",
       "134       111.111  Harley-Davidson  "
      ]
     },
     "execution_count": 107,
     "metadata": {},
     "output_type": "execute_result"
    }
   ],
   "source": [
    "ex_cara = df1[df1['ex_showroom_price'] == df1['ex_showroom_price'].max()]\n",
    "ex_cara"
   ]
  },
  {
   "cell_type": "code",
   "execution_count": 108,
   "id": "f0c15623",
   "metadata": {},
   "outputs": [
    {
     "name": "stdout",
     "output_type": "stream",
     "text": [
      "O maior valor da moto sem as taxas de registro e seguro é de U$ 1278000.00\n"
     ]
    }
   ],
   "source": [
    "print(f'O maior valor da moto sem as taxas de registro e seguro é de U$ {ex_cara.iloc[0, 7]:.2f}')"
   ]
  },
  {
   "cell_type": "markdown",
   "id": "5f943211",
   "metadata": {},
   "source": [
    "#### 8. Das motos que que possuem o valor de venda sem as taxas de registro e seguro, qual seria o menor valor registrado na base de dados para essa coluna?"
   ]
  },
  {
   "cell_type": "markdown",
   "id": "b5677aa8",
   "metadata": {},
   "source": [
    "##### Planejamento"
   ]
  },
  {
   "cell_type": "markdown",
   "id": "ca0b2464",
   "metadata": {},
   "source": [
    "Verificar qual é o menor valor registrado na coluna `ex_showroom_price`"
   ]
  },
  {
   "cell_type": "markdown",
   "id": "ee639743",
   "metadata": {},
   "source": [
    "##### Resposta"
   ]
  },
  {
   "cell_type": "code",
   "execution_count": 109,
   "id": "129e88a0",
   "metadata": {},
   "outputs": [
    {
     "data": {
      "text/html": [
       "<div>\n",
       "<style scoped>\n",
       "    .dataframe tbody tr th:only-of-type {\n",
       "        vertical-align: middle;\n",
       "    }\n",
       "\n",
       "    .dataframe tbody tr th {\n",
       "        vertical-align: top;\n",
       "    }\n",
       "\n",
       "    .dataframe thead th {\n",
       "        text-align: right;\n",
       "    }\n",
       "</style>\n",
       "<table border=\"1\" class=\"dataframe\">\n",
       "  <thead>\n",
       "    <tr style=\"text-align: right;\">\n",
       "      <th></th>\n",
       "      <th>id</th>\n",
       "      <th>name</th>\n",
       "      <th>selling_price</th>\n",
       "      <th>year</th>\n",
       "      <th>seller_type</th>\n",
       "      <th>owner</th>\n",
       "      <th>km_driven</th>\n",
       "      <th>ex_showroom_price</th>\n",
       "      <th>age</th>\n",
       "      <th>km_class</th>\n",
       "      <th>km_per_year</th>\n",
       "      <th>km_per_month</th>\n",
       "      <th>company</th>\n",
       "    </tr>\n",
       "  </thead>\n",
       "  <tbody>\n",
       "    <tr>\n",
       "      <th>851</th>\n",
       "      <td>851</td>\n",
       "      <td>TVS XL 100</td>\n",
       "      <td>30000.0</td>\n",
       "      <td>2017</td>\n",
       "      <td>Individual</td>\n",
       "      <td>1st owner</td>\n",
       "      <td>8000</td>\n",
       "      <td>30490.0</td>\n",
       "      <td>5</td>\n",
       "      <td>2</td>\n",
       "      <td>1600.0</td>\n",
       "      <td>133.333</td>\n",
       "      <td>TVS</td>\n",
       "    </tr>\n",
       "  </tbody>\n",
       "</table>\n",
       "</div>"
      ],
      "text/plain": [
       "      id        name  selling_price  year seller_type      owner  km_driven  \\\n",
       "851  851  TVS XL 100        30000.0  2017  Individual  1st owner       8000   \n",
       "\n",
       "     ex_showroom_price  age  km_class  km_per_year  km_per_month company  \n",
       "851            30490.0    5         2       1600.0       133.333     TVS  "
      ]
     },
     "execution_count": 109,
     "metadata": {},
     "output_type": "execute_result"
    }
   ],
   "source": [
    "ex_barata = df1[df1['ex_showroom_price'] == df1['ex_showroom_price'].min()]\n",
    "ex_barata"
   ]
  },
  {
   "cell_type": "code",
   "execution_count": 110,
   "id": "fe5aa554",
   "metadata": {},
   "outputs": [
    {
     "name": "stdout",
     "output_type": "stream",
     "text": [
      "O maior valor da moto sem as taxas de registro e seguro é de U$ 30490.00\n"
     ]
    }
   ],
   "source": [
    "print(f'O maior valor da moto sem as taxas de registro e seguro é de U$ {ex_barata.iloc[0, 7]:.2f}')"
   ]
  },
  {
   "cell_type": "markdown",
   "id": "0037f51e",
   "metadata": {},
   "source": [
    "#### 9. Quantas motocicletas estão sendo vendidades por donos próprio e quantas estão sendo vendidas por revendedores?"
   ]
  },
  {
   "cell_type": "markdown",
   "id": "9d8ad4e4",
   "metadata": {},
   "source": [
    "##### Planejamento"
   ]
  },
  {
   "cell_type": "markdown",
   "id": "6fe0461c",
   "metadata": {},
   "source": [
    "Contar quantas linhas possuem a coluna `seller_type` preenchida com o conteúdo 'Individual' e quantas estão preenchdidas com o conteúdo 'Dealer'. \n",
    "\n",
    "Uma das maneiras de verificar isso é agrupando os dados pela coluna `seller_type` e depois realizar uma contagem nos dados"
   ]
  },
  {
   "cell_type": "markdown",
   "id": "6f6dadcc",
   "metadata": {},
   "source": [
    "##### Resposta"
   ]
  },
  {
   "cell_type": "code",
   "execution_count": 111,
   "id": "7d47ece1",
   "metadata": {},
   "outputs": [
    {
     "data": {
      "text/html": [
       "<div>\n",
       "<style scoped>\n",
       "    .dataframe tbody tr th:only-of-type {\n",
       "        vertical-align: middle;\n",
       "    }\n",
       "\n",
       "    .dataframe tbody tr th {\n",
       "        vertical-align: top;\n",
       "    }\n",
       "\n",
       "    .dataframe thead th {\n",
       "        text-align: right;\n",
       "    }\n",
       "</style>\n",
       "<table border=\"1\" class=\"dataframe\">\n",
       "  <thead>\n",
       "    <tr style=\"text-align: right;\">\n",
       "      <th></th>\n",
       "      <th>seller_type</th>\n",
       "      <th>count</th>\n",
       "    </tr>\n",
       "  </thead>\n",
       "  <tbody>\n",
       "    <tr>\n",
       "      <th>0</th>\n",
       "      <td>Dealer</td>\n",
       "      <td>6</td>\n",
       "    </tr>\n",
       "    <tr>\n",
       "      <th>1</th>\n",
       "      <td>Individual</td>\n",
       "      <td>1055</td>\n",
       "    </tr>\n",
       "  </tbody>\n",
       "</table>\n",
       "</div>"
      ],
      "text/plain": [
       "  seller_type  count\n",
       "0      Dealer      6\n",
       "1  Individual   1055"
      ]
     },
     "execution_count": 111,
     "metadata": {},
     "output_type": "execute_result"
    }
   ],
   "source": [
    "df_grouped = df1[['id', 'seller_type']].groupby('seller_type')\n",
    "\n",
    "df_grouped = df_grouped.count().reset_index()\n",
    "\n",
    "df_grouped = df_grouped.rename(columns={'id': 'count'})\n",
    "\n",
    "df_grouped"
   ]
  },
  {
   "cell_type": "code",
   "execution_count": 112,
   "id": "10517d54",
   "metadata": {},
   "outputs": [
    {
     "name": "stdout",
     "output_type": "stream",
     "text": [
      "Dessa forma, temos 6 motos sendo vendidas por revendedores\n",
      "E temos 1055 motos sendo vendidas por seus donos\n"
     ]
    }
   ],
   "source": [
    "print(f'Dessa forma, temos {df_grouped.loc[0, \"count\"]} motos sendo vendidas por revendedores')\n",
    "print(f'E temos {df_grouped.loc[1, \"count\"]} motos sendo vendidas por seus donos')"
   ]
  },
  {
   "cell_type": "code",
   "execution_count": 113,
   "metadata": {},
   "outputs": [
    {
     "data": {
      "image/png": "[encoded data removed]",
      "text/plain": [
       "<Figure size 1080x576 with 1 Axes>"
      ]
     },
     "metadata": {},
     "output_type": "display_data"
    }
   ],
   "source": [
    "ax = sns.barplot(\n",
    "    data = df_grouped,\n",
    "    x = 'seller_type',\n",
    "    y = 'count'\n",
    ")\n",
    "\n",
    "ax.bar_label(ax.containers[0])\n",
    "\n",
    "ax.set(\n",
    "    title = 'Quantidade de Tipos de Vendendores',\n",
    "    xlabel = 'Tipos de Vendedores',\n",
    "    ylabel = 'Quantidade'\n",
    ");"
   ]
  },
  {
   "cell_type": "markdown",
   "id": "6e259b99",
   "metadata": {},
   "source": [
    "#### 10. Qual é a média de valores das motos na base de dados?"
   ]
  },
  {
   "cell_type": "markdown",
   "id": "68a8b19a",
   "metadata": {},
   "source": [
    "##### Planejamento"
   ]
  },
  {
   "cell_type": "markdown",
   "id": "e07043f0",
   "metadata": {},
   "source": [
    "Calcular a média dos valores da coluna `selling_price`. \n",
    "\n",
    "Uma maneira de realizar esse cálculo é selecionar os dados da coluna `selling_price` e utilizar a função `mean()`."
   ]
  },
  {
   "cell_type": "markdown",
   "id": "e65339f0",
   "metadata": {},
   "source": [
    "##### Resposta"
   ]
  },
  {
   "cell_type": "code",
   "execution_count": 114,
   "id": "8510e6a2",
   "metadata": {},
   "outputs": [
    {
     "data": {
      "text/plain": [
       "59638.151743638075"
      ]
     },
     "execution_count": 114,
     "metadata": {},
     "output_type": "execute_result"
    }
   ],
   "source": [
    "media = df1['selling_price'].mean()\n",
    "media"
   ]
  },
  {
   "cell_type": "code",
   "execution_count": 115,
   "id": "6b789de3",
   "metadata": {},
   "outputs": [
    {
     "name": "stdout",
     "output_type": "stream",
     "text": [
      "O valor média do preço de venda das motos é de U$ 59638.15\n"
     ]
    }
   ],
   "source": [
    "print(f'O valor média do preço de venda das motos é de U$ {media:.2f}')"
   ]
  },
  {
   "cell_type": "markdown",
   "id": "87c5d50c",
   "metadata": {},
   "source": [
    "#### 11. Qual é a média de ano das motos cadastradas dentro da base de dados?"
   ]
  },
  {
   "cell_type": "markdown",
   "id": "d7943b29",
   "metadata": {},
   "source": [
    "##### Planejamento"
   ]
  },
  {
   "cell_type": "markdown",
   "id": "b7ed6b5b",
   "metadata": {},
   "source": [
    "Calcularmos a média dos valores que estão na coluna `year`."
   ]
  },
  {
   "cell_type": "markdown",
   "id": "f6a3481b",
   "metadata": {},
   "source": [
    "##### Resolução"
   ]
  },
  {
   "cell_type": "code",
   "execution_count": 116,
   "id": "e4a2ff47",
   "metadata": {},
   "outputs": [
    {
     "data": {
      "text/plain": [
       "2013.8671065032988"
      ]
     },
     "execution_count": 116,
     "metadata": {},
     "output_type": "execute_result"
    }
   ],
   "source": [
    "media_y = df1['year'].mean()\n",
    "media_y"
   ]
  },
  {
   "cell_type": "code",
   "execution_count": 117,
   "id": "ae8d7e73",
   "metadata": {},
   "outputs": [
    {
     "name": "stdout",
     "output_type": "stream",
     "text": [
      "A média do ano das motos da base de dados é 2014\n"
     ]
    }
   ],
   "source": [
    "print(f'A média do ano das motos da base de dados é {media_y:.0f}')"
   ]
  },
  {
   "cell_type": "markdown",
   "id": "eb499820",
   "metadata": {},
   "source": [
    "#### 12. Qual é a média de quilometragem das motos cadastradas dentro da base de dados?"
   ]
  },
  {
   "cell_type": "markdown",
   "id": "54079508",
   "metadata": {},
   "source": [
    "##### Planejamento"
   ]
  },
  {
   "cell_type": "markdown",
   "id": "b4d6610f",
   "metadata": {},
   "source": [
    "Calcular a média dos valores da coluna `km_driven`"
   ]
  },
  {
   "cell_type": "markdown",
   "id": "3e2a2cf3",
   "metadata": {},
   "source": [
    "##### Resposta"
   ]
  },
  {
   "cell_type": "code",
   "execution_count": 118,
   "id": "bf7ac521",
   "metadata": {},
   "outputs": [
    {
     "data": {
      "text/plain": [
       "34359.83317624882"
      ]
     },
     "execution_count": 118,
     "metadata": {},
     "output_type": "execute_result"
    }
   ],
   "source": [
    "media_km = df1['km_driven'].mean()\n",
    "media_km"
   ]
  },
  {
   "cell_type": "code",
   "execution_count": 119,
   "id": "8d3237b1",
   "metadata": {},
   "outputs": [
    {
     "name": "stdout",
     "output_type": "stream",
     "text": [
      "A média de quilometros percorridos das motos da base de dados é de 34359.83 Km\n"
     ]
    }
   ],
   "source": [
    "print(f'A média de quilometros percorridos das motos da base de dados é de {media_km:.2f} Km')"
   ]
  },
  {
   "cell_type": "markdown",
   "id": "38f125a3",
   "metadata": {},
   "source": [
    "#### 13. Existem quantas motos dentro da base de dados que são motos de um único dono?"
   ]
  },
  {
   "cell_type": "markdown",
   "id": "47a5f45f",
   "metadata": {},
   "source": [
    "##### Planejamento"
   ]
  },
  {
   "cell_type": "markdown",
   "id": "34ed50bb",
   "metadata": {},
   "source": [
    "Selecionar as linhas que possuem a coluna `owner` igual `1st owner` e depois fazer a contagem da quantidade de linhas"
   ]
  },
  {
   "cell_type": "markdown",
   "id": "d3cf410d",
   "metadata": {},
   "source": [
    "##### Resposta"
   ]
  },
  {
   "cell_type": "code",
   "execution_count": 120,
   "id": "4c52a907",
   "metadata": {},
   "outputs": [
    {
     "data": {
      "text/plain": [
       "924"
      ]
     },
     "execution_count": 120,
     "metadata": {},
     "output_type": "execute_result"
    }
   ],
   "source": [
    "unico_dono = df1[df1['owner'] == '1st owner'].shape[0]\n",
    "unico_dono"
   ]
  },
  {
   "cell_type": "code",
   "execution_count": 121,
   "id": "9cd877a2",
   "metadata": {},
   "outputs": [
    {
     "name": "stdout",
     "output_type": "stream",
     "text": [
      "A base de dados possui 924 motos de um único dono\n"
     ]
    }
   ],
   "source": [
    "print(f'A base de dados possui {unico_dono} motos de um único dono')"
   ]
  },
  {
   "cell_type": "code",
   "execution_count": 122,
   "metadata": {},
   "outputs": [
    {
     "data": {
      "image/png": "[encoded data removed]",
      "text/plain": [
       "<Figure size 1080x576 with 1 Axes>"
      ]
     },
     "metadata": {},
     "output_type": "display_data"
    }
   ],
   "source": [
    "df_grouped = df1.groupby('owner').agg(\n",
    "    qty = pd.NamedAgg('id', 'count')\n",
    ").sort_values('qty').reset_index()\n",
    "\n",
    "ax = sns.barplot(\n",
    "    data=df_grouped,\n",
    "    x = 'owner',\n",
    "    y = 'qty'\n",
    ")\n",
    "\n",
    "ax.bar_label(ax.containers[0])\n",
    "\n",
    "ax.set(\n",
    "    title = 'Quantidade de Motos por tipo de dono',\n",
    "    xlabel = 'Tipo de Dono',\n",
    "    ylabel = 'Quantidade de donos'\n",
    ");"
   ]
  },
  {
   "cell_type": "markdown",
   "id": "d62d374f",
   "metadata": {},
   "source": [
    "#### 14. As motos com maior quilometragem são as motos mais baratas do Dataset?"
   ]
  },
  {
   "cell_type": "markdown",
   "id": "5cf94cc6",
   "metadata": {},
   "source": [
    "##### Planejamento"
   ]
  },
  {
   "cell_type": "markdown",
   "id": "02efa0e8",
   "metadata": {},
   "source": [
    "Categorizar as motos conforme a quantidade de quilometros percorridos. \n",
    "\n",
    "A cada 5 mil quilometros será criada uma nova categoria. E depois, será agrupado as categorias e calculado a média de cada categoria, para verificar qual é a categoria que tem a menor média de valor."
   ]
  },
  {
   "cell_type": "markdown",
   "id": "17a41632",
   "metadata": {},
   "source": [
    "##### Resposta"
   ]
  },
  {
   "cell_type": "code",
   "execution_count": 123,
   "id": "ab0dcb17",
   "metadata": {
    "ExecuteTime": {
     "end_time": "2022-07-18T22:55:30.301073Z",
     "start_time": "2022-07-18T22:55:30.292776Z"
    }
   },
   "outputs": [
    {
     "data": {
      "text/html": [
       "<div>\n",
       "<style scoped>\n",
       "    .dataframe tbody tr th:only-of-type {\n",
       "        vertical-align: middle;\n",
       "    }\n",
       "\n",
       "    .dataframe tbody tr th {\n",
       "        vertical-align: top;\n",
       "    }\n",
       "\n",
       "    .dataframe thead th {\n",
       "        text-align: right;\n",
       "    }\n",
       "</style>\n",
       "<table border=\"1\" class=\"dataframe\">\n",
       "  <thead>\n",
       "    <tr style=\"text-align: right;\">\n",
       "      <th></th>\n",
       "      <th>id</th>\n",
       "      <th>name</th>\n",
       "      <th>selling_price</th>\n",
       "      <th>year</th>\n",
       "      <th>seller_type</th>\n",
       "      <th>owner</th>\n",
       "      <th>km_driven</th>\n",
       "      <th>ex_showroom_price</th>\n",
       "      <th>age</th>\n",
       "      <th>km_class</th>\n",
       "      <th>km_per_year</th>\n",
       "      <th>km_per_month</th>\n",
       "      <th>company</th>\n",
       "    </tr>\n",
       "  </thead>\n",
       "  <tbody>\n",
       "    <tr>\n",
       "      <th>0</th>\n",
       "      <td>0</td>\n",
       "      <td>Royal Enfield Classic 350</td>\n",
       "      <td>175000.0</td>\n",
       "      <td>2019</td>\n",
       "      <td>Individual</td>\n",
       "      <td>1st owner</td>\n",
       "      <td>350</td>\n",
       "      <td>NaN</td>\n",
       "      <td>3</td>\n",
       "      <td>1</td>\n",
       "      <td>116.667</td>\n",
       "      <td>9.722</td>\n",
       "      <td>Royal Enfield</td>\n",
       "    </tr>\n",
       "    <tr>\n",
       "      <th>1</th>\n",
       "      <td>1</td>\n",
       "      <td>Honda Dio</td>\n",
       "      <td>45000.0</td>\n",
       "      <td>2017</td>\n",
       "      <td>Individual</td>\n",
       "      <td>1st owner</td>\n",
       "      <td>5650</td>\n",
       "      <td>NaN</td>\n",
       "      <td>5</td>\n",
       "      <td>2</td>\n",
       "      <td>1130.000</td>\n",
       "      <td>94.167</td>\n",
       "      <td>Honda</td>\n",
       "    </tr>\n",
       "    <tr>\n",
       "      <th>2</th>\n",
       "      <td>2</td>\n",
       "      <td>Royal Enfield Classic Gunmetal Grey</td>\n",
       "      <td>150000.0</td>\n",
       "      <td>2018</td>\n",
       "      <td>Individual</td>\n",
       "      <td>1st owner</td>\n",
       "      <td>12000</td>\n",
       "      <td>148114.0</td>\n",
       "      <td>4</td>\n",
       "      <td>3</td>\n",
       "      <td>3000.000</td>\n",
       "      <td>250.000</td>\n",
       "      <td>Royal Enfield</td>\n",
       "    </tr>\n",
       "    <tr>\n",
       "      <th>3</th>\n",
       "      <td>3</td>\n",
       "      <td>Yamaha Fazer FI V 2.0 [2016-2018]</td>\n",
       "      <td>65000.0</td>\n",
       "      <td>2015</td>\n",
       "      <td>Individual</td>\n",
       "      <td>1st owner</td>\n",
       "      <td>23000</td>\n",
       "      <td>89643.0</td>\n",
       "      <td>7</td>\n",
       "      <td>5</td>\n",
       "      <td>3285.714</td>\n",
       "      <td>273.810</td>\n",
       "      <td>Yamaha</td>\n",
       "    </tr>\n",
       "    <tr>\n",
       "      <th>4</th>\n",
       "      <td>4</td>\n",
       "      <td>Yamaha SZ [2013-2014]</td>\n",
       "      <td>20000.0</td>\n",
       "      <td>2011</td>\n",
       "      <td>Individual</td>\n",
       "      <td>2nd owner</td>\n",
       "      <td>21000</td>\n",
       "      <td>NaN</td>\n",
       "      <td>11</td>\n",
       "      <td>5</td>\n",
       "      <td>1909.091</td>\n",
       "      <td>159.091</td>\n",
       "      <td>Yamaha</td>\n",
       "    </tr>\n",
       "  </tbody>\n",
       "</table>\n",
       "</div>"
      ],
      "text/plain": [
       "   id                                 name  selling_price  year seller_type  \\\n",
       "0   0            Royal Enfield Classic 350       175000.0  2019  Individual   \n",
       "1   1                            Honda Dio        45000.0  2017  Individual   \n",
       "2   2  Royal Enfield Classic Gunmetal Grey       150000.0  2018  Individual   \n",
       "3   3    Yamaha Fazer FI V 2.0 [2016-2018]        65000.0  2015  Individual   \n",
       "4   4                Yamaha SZ [2013-2014]        20000.0  2011  Individual   \n",
       "\n",
       "       owner  km_driven  ex_showroom_price  age  km_class  km_per_year  \\\n",
       "0  1st owner        350                NaN    3         1      116.667   \n",
       "1  1st owner       5650                NaN    5         2     1130.000   \n",
       "2  1st owner      12000           148114.0    4         3     3000.000   \n",
       "3  1st owner      23000            89643.0    7         5     3285.714   \n",
       "4  2nd owner      21000                NaN   11         5     1909.091   \n",
       "\n",
       "   km_per_month        company  \n",
       "0         9.722  Royal Enfield  \n",
       "1        94.167          Honda  \n",
       "2       250.000  Royal Enfield  \n",
       "3       273.810         Yamaha  \n",
       "4       159.091         Yamaha  "
      ]
     },
     "execution_count": 123,
     "metadata": {},
     "output_type": "execute_result"
    }
   ],
   "source": [
    "df1.head()"
   ]
  },
  {
   "cell_type": "code",
   "execution_count": 124,
   "id": "d0c5a7a1",
   "metadata": {
    "ExecuteTime": {
     "end_time": "2022-07-18T22:57:24.098724Z",
     "start_time": "2022-07-18T22:57:24.086587Z"
    }
   },
   "outputs": [
    {
     "data": {
      "text/html": [
       "<div>\n",
       "<style scoped>\n",
       "    .dataframe tbody tr th:only-of-type {\n",
       "        vertical-align: middle;\n",
       "    }\n",
       "\n",
       "    .dataframe tbody tr th {\n",
       "        vertical-align: top;\n",
       "    }\n",
       "\n",
       "    .dataframe thead th {\n",
       "        text-align: right;\n",
       "    }\n",
       "</style>\n",
       "<table border=\"1\" class=\"dataframe\">\n",
       "  <thead>\n",
       "    <tr style=\"text-align: right;\">\n",
       "      <th></th>\n",
       "      <th>id</th>\n",
       "      <th>name</th>\n",
       "      <th>selling_price</th>\n",
       "      <th>year</th>\n",
       "      <th>seller_type</th>\n",
       "      <th>owner</th>\n",
       "      <th>km_driven</th>\n",
       "      <th>ex_showroom_price</th>\n",
       "      <th>age</th>\n",
       "      <th>km_class</th>\n",
       "      <th>km_per_year</th>\n",
       "      <th>km_per_month</th>\n",
       "      <th>company</th>\n",
       "    </tr>\n",
       "  </thead>\n",
       "  <tbody>\n",
       "    <tr>\n",
       "      <th>0</th>\n",
       "      <td>0</td>\n",
       "      <td>Royal Enfield Classic 350</td>\n",
       "      <td>175000.0</td>\n",
       "      <td>2019</td>\n",
       "      <td>Individual</td>\n",
       "      <td>1st owner</td>\n",
       "      <td>350</td>\n",
       "      <td>NaN</td>\n",
       "      <td>3</td>\n",
       "      <td>1</td>\n",
       "      <td>116.667</td>\n",
       "      <td>9.722</td>\n",
       "      <td>Royal Enfield</td>\n",
       "    </tr>\n",
       "    <tr>\n",
       "      <th>1</th>\n",
       "      <td>1</td>\n",
       "      <td>Honda Dio</td>\n",
       "      <td>45000.0</td>\n",
       "      <td>2017</td>\n",
       "      <td>Individual</td>\n",
       "      <td>1st owner</td>\n",
       "      <td>5650</td>\n",
       "      <td>NaN</td>\n",
       "      <td>5</td>\n",
       "      <td>2</td>\n",
       "      <td>1130.000</td>\n",
       "      <td>94.167</td>\n",
       "      <td>Honda</td>\n",
       "    </tr>\n",
       "    <tr>\n",
       "      <th>2</th>\n",
       "      <td>2</td>\n",
       "      <td>Royal Enfield Classic Gunmetal Grey</td>\n",
       "      <td>150000.0</td>\n",
       "      <td>2018</td>\n",
       "      <td>Individual</td>\n",
       "      <td>1st owner</td>\n",
       "      <td>12000</td>\n",
       "      <td>148114.0</td>\n",
       "      <td>4</td>\n",
       "      <td>3</td>\n",
       "      <td>3000.000</td>\n",
       "      <td>250.000</td>\n",
       "      <td>Royal Enfield</td>\n",
       "    </tr>\n",
       "    <tr>\n",
       "      <th>3</th>\n",
       "      <td>3</td>\n",
       "      <td>Yamaha Fazer FI V 2.0 [2016-2018]</td>\n",
       "      <td>65000.0</td>\n",
       "      <td>2015</td>\n",
       "      <td>Individual</td>\n",
       "      <td>1st owner</td>\n",
       "      <td>23000</td>\n",
       "      <td>89643.0</td>\n",
       "      <td>7</td>\n",
       "      <td>5</td>\n",
       "      <td>3285.714</td>\n",
       "      <td>273.810</td>\n",
       "      <td>Yamaha</td>\n",
       "    </tr>\n",
       "    <tr>\n",
       "      <th>4</th>\n",
       "      <td>4</td>\n",
       "      <td>Yamaha SZ [2013-2014]</td>\n",
       "      <td>20000.0</td>\n",
       "      <td>2011</td>\n",
       "      <td>Individual</td>\n",
       "      <td>2nd owner</td>\n",
       "      <td>21000</td>\n",
       "      <td>NaN</td>\n",
       "      <td>11</td>\n",
       "      <td>5</td>\n",
       "      <td>1909.091</td>\n",
       "      <td>159.091</td>\n",
       "      <td>Yamaha</td>\n",
       "    </tr>\n",
       "  </tbody>\n",
       "</table>\n",
       "</div>"
      ],
      "text/plain": [
       "   id                                 name  selling_price  year seller_type  \\\n",
       "0   0            Royal Enfield Classic 350       175000.0  2019  Individual   \n",
       "1   1                            Honda Dio        45000.0  2017  Individual   \n",
       "2   2  Royal Enfield Classic Gunmetal Grey       150000.0  2018  Individual   \n",
       "3   3    Yamaha Fazer FI V 2.0 [2016-2018]        65000.0  2015  Individual   \n",
       "4   4                Yamaha SZ [2013-2014]        20000.0  2011  Individual   \n",
       "\n",
       "       owner  km_driven  ex_showroom_price  age  km_class  km_per_year  \\\n",
       "0  1st owner        350                NaN    3         1      116.667   \n",
       "1  1st owner       5650                NaN    5         2     1130.000   \n",
       "2  1st owner      12000           148114.0    4         3     3000.000   \n",
       "3  1st owner      23000            89643.0    7         5     3285.714   \n",
       "4  2nd owner      21000                NaN   11         5     1909.091   \n",
       "\n",
       "   km_per_month        company  \n",
       "0         9.722  Royal Enfield  \n",
       "1        94.167          Honda  \n",
       "2       250.000  Royal Enfield  \n",
       "3       273.810         Yamaha  \n",
       "4       159.091         Yamaha  "
      ]
     },
     "execution_count": 124,
     "metadata": {},
     "output_type": "execute_result"
    }
   ],
   "source": [
    "# Aplica a classificação das motocicletas\n",
    "df1['km_class'] = df1['km_driven'].apply( lambda km_driven: create_km_class(km_driven) )\n",
    "df1.head()"
   ]
  },
  {
   "cell_type": "code",
   "execution_count": 125,
   "id": "0973dcca",
   "metadata": {
    "ExecuteTime": {
     "end_time": "2022-07-18T22:58:29.238411Z",
     "start_time": "2022-07-18T22:58:29.234799Z"
    }
   },
   "outputs": [
    {
     "data": {
      "text/plain": [
       "32"
      ]
     },
     "execution_count": 125,
     "metadata": {},
     "output_type": "execute_result"
    }
   ],
   "source": [
    "# Quantidade de classes no Dataset\n",
    "len(df1['km_class'].unique())"
   ]
  },
  {
   "cell_type": "code",
   "execution_count": 126,
   "id": "cfb09e3c",
   "metadata": {
    "ExecuteTime": {
     "end_time": "2022-07-18T23:00:17.760317Z",
     "start_time": "2022-07-18T23:00:17.751080Z"
    }
   },
   "outputs": [
    {
     "data": {
      "text/html": [
       "<div>\n",
       "<style scoped>\n",
       "    .dataframe tbody tr th:only-of-type {\n",
       "        vertical-align: middle;\n",
       "    }\n",
       "\n",
       "    .dataframe tbody tr th {\n",
       "        vertical-align: top;\n",
       "    }\n",
       "\n",
       "    .dataframe thead th {\n",
       "        text-align: right;\n",
       "    }\n",
       "</style>\n",
       "<table border=\"1\" class=\"dataframe\">\n",
       "  <thead>\n",
       "    <tr style=\"text-align: right;\">\n",
       "      <th></th>\n",
       "      <th>km_class</th>\n",
       "      <th>selling_price</th>\n",
       "    </tr>\n",
       "  </thead>\n",
       "  <tbody>\n",
       "    <tr>\n",
       "      <th>0</th>\n",
       "      <td>1</td>\n",
       "      <td>124564.705882</td>\n",
       "    </tr>\n",
       "    <tr>\n",
       "      <th>1</th>\n",
       "      <td>69</td>\n",
       "      <td>120000.000000</td>\n",
       "    </tr>\n",
       "    <tr>\n",
       "      <th>2</th>\n",
       "      <td>2</td>\n",
       "      <td>87146.448000</td>\n",
       "    </tr>\n",
       "    <tr>\n",
       "      <th>3</th>\n",
       "      <td>3</td>\n",
       "      <td>79736.842105</td>\n",
       "    </tr>\n",
       "    <tr>\n",
       "      <th>4</th>\n",
       "      <td>48</td>\n",
       "      <td>70000.000000</td>\n",
       "    </tr>\n",
       "  </tbody>\n",
       "</table>\n",
       "</div>"
      ],
      "text/plain": [
       "   km_class  selling_price\n",
       "0         1  124564.705882\n",
       "1        69  120000.000000\n",
       "2         2   87146.448000\n",
       "3         3   79736.842105\n",
       "4        48   70000.000000"
      ]
     },
     "execution_count": 126,
     "metadata": {},
     "output_type": "execute_result"
    }
   ],
   "source": [
    "df_grouped = df1[['km_class', 'selling_price']].groupby('km_class')\n",
    "\n",
    "df_grouped = df_grouped.mean().sort_values('selling_price', ascending=False).reset_index()\n",
    "\n",
    "df_grouped.head()"
   ]
  },
  {
   "cell_type": "markdown",
   "id": "643eee37",
   "metadata": {},
   "source": [
    "Como podemos observar, as motos com maior quilometragem não são as mais baratas na média. Visto que a maior classificação com relação à quilometragem percorrida é de 177."
   ]
  },
  {
   "cell_type": "code",
   "execution_count": 127,
   "metadata": {},
   "outputs": [
    {
     "data": {
      "text/plain": [
       "[Text(0.5, 1.0, 'Média de Preço das Motocicletas agrupadas por classe'),\n",
       " Text(0.5, 0, 'Classe de Quilemtros percorridos (5 mil Km percorrido por classe)'),\n",
       " Text(0, 0.5, 'Preço Médio de venda')]"
      ]
     },
     "execution_count": 127,
     "metadata": {},
     "output_type": "execute_result"
    },
    {
     "data": {
      "image/png": "[encoded data removed]",
      "text/plain": [
       "<Figure size 1080x576 with 1 Axes>"
      ]
     },
     "metadata": {},
     "output_type": "display_data"
    }
   ],
   "source": [
    "ax = sns.barplot(\n",
    "    data = df_grouped,\n",
    "    x = 'km_class',\n",
    "    y = 'selling_price'\n",
    ")\n",
    "\n",
    "ax.set(\n",
    "    title = 'Média de Preço das Motocicletas agrupadas por classe',\n",
    "    xlabel = 'Classe de Quilemtros percorridos (5 mil Km percorrido por classe)',\n",
    "    ylabel = 'Preço Médio de venda'\n",
    ")"
   ]
  },
  {
   "cell_type": "code",
   "execution_count": 128,
   "metadata": {},
   "outputs": [
    {
     "data": {
      "image/png": "[encoded data removed]",
      "text/plain": [
       "<Figure size 1080x576 with 1 Axes>"
      ]
     },
     "metadata": {},
     "output_type": "display_data"
    }
   ],
   "source": [
    "ax = sns.scatterplot(\n",
    "    data = df1,\n",
    "    x = 'km_driven',\n",
    "    y = 'selling_price',\n",
    ")\n",
    "\n",
    "ax.set(\n",
    "    title = 'Relação entre Preço de Venda e Quilemetros Percorridos',\n",
    "    xlabel = 'Quilemetros Percorridos',\n",
    "    ylabel = 'Preço de Venda'\n",
    ");"
   ]
  },
  {
   "cell_type": "code",
   "execution_count": 129,
   "metadata": {},
   "outputs": [
    {
     "name": "stdout",
     "output_type": "stream",
     "text": [
      "Conforme podemos observar em ambos os gráficos, as motos que possuem mais quilometragem percorrida, são as mais baratas\n"
     ]
    }
   ],
   "source": [
    "print(f'Conforme podemos observar em ambos os gráficos, as motos que possuem mais quilometragem percorrida, são as mais baratas')"
   ]
  },
  {
   "cell_type": "markdown",
   "metadata": {},
   "source": [
    "### Segunda Rodada"
   ]
  },
  {
   "cell_type": "markdown",
   "id": "b3cb9c69",
   "metadata": {},
   "source": [
    "#### 1. As motos que possuiram somente 1 dono são as motos mais caras na média que as motos que tiveram mais donos?"
   ]
  },
  {
   "cell_type": "markdown",
   "id": "74c76201",
   "metadata": {
    "heading_collapsed": true
   },
   "source": [
    "##### Planejamento"
   ]
  },
  {
   "cell_type": "markdown",
   "id": "00b3f049",
   "metadata": {
    "hidden": true
   },
   "source": [
    "Agupar os dados por categoria de quantidade de donos, coluna `owner` e tirar a média dos valores de preço de venda para verificar qual é a categoria que possuí a maior média"
   ]
  },
  {
   "cell_type": "markdown",
   "id": "aba08194",
   "metadata": {},
   "source": [
    "##### Resposta"
   ]
  },
  {
   "cell_type": "code",
   "execution_count": 130,
   "id": "d8cc0791",
   "metadata": {
    "ExecuteTime": {
     "end_time": "2022-07-20T23:35:26.624088Z",
     "start_time": "2022-07-20T23:35:26.596720Z"
    }
   },
   "outputs": [
    {
     "data": {
      "text/html": [
       "<div>\n",
       "<style scoped>\n",
       "    .dataframe tbody tr th:only-of-type {\n",
       "        vertical-align: middle;\n",
       "    }\n",
       "\n",
       "    .dataframe tbody tr th {\n",
       "        vertical-align: top;\n",
       "    }\n",
       "\n",
       "    .dataframe thead th {\n",
       "        text-align: right;\n",
       "    }\n",
       "</style>\n",
       "<table border=\"1\" class=\"dataframe\">\n",
       "  <thead>\n",
       "    <tr style=\"text-align: right;\">\n",
       "      <th></th>\n",
       "      <th>owner</th>\n",
       "      <th>avg_price</th>\n",
       "      <th>qty</th>\n",
       "    </tr>\n",
       "  </thead>\n",
       "  <tbody>\n",
       "    <tr>\n",
       "      <th>0</th>\n",
       "      <td>4th owner</td>\n",
       "      <td>118333.33</td>\n",
       "      <td>3</td>\n",
       "    </tr>\n",
       "    <tr>\n",
       "      <th>1</th>\n",
       "      <td>1st owner</td>\n",
       "      <td>60022.81</td>\n",
       "      <td>924</td>\n",
       "    </tr>\n",
       "    <tr>\n",
       "      <th>2</th>\n",
       "      <td>3rd owner</td>\n",
       "      <td>55727.27</td>\n",
       "      <td>11</td>\n",
       "    </tr>\n",
       "    <tr>\n",
       "      <th>3</th>\n",
       "      <td>2nd owner</td>\n",
       "      <td>55666.66</td>\n",
       "      <td>123</td>\n",
       "    </tr>\n",
       "  </tbody>\n",
       "</table>\n",
       "</div>"
      ],
      "text/plain": [
       "       owner  avg_price  qty\n",
       "0  4th owner  118333.33    3\n",
       "1  1st owner   60022.81  924\n",
       "2  3rd owner   55727.27   11\n",
       "3  2nd owner   55666.66  123"
      ]
     },
     "execution_count": 130,
     "metadata": {},
     "output_type": "execute_result"
    }
   ],
   "source": [
    "df_grouped = df1.groupby('owner')\n",
    "\n",
    "df_grouped = df_grouped.agg(\n",
    "    avg_price = pd.NamedAgg('selling_price', 'mean'),\n",
    "    qty = pd.NamedAgg('owner', 'count'),\n",
    ").sort_values('avg_price', ascending=False).reset_index()\n",
    "\n",
    "df_grouped['avg_price'] = df_grouped['avg_price'].round(2)\n",
    "\n",
    "df_grouped"
   ]
  },
  {
   "cell_type": "code",
   "execution_count": 131,
   "id": "cff0c9a7",
   "metadata": {},
   "outputs": [
    {
     "data": {
      "image/png": "[encoded data removed]",
      "text/plain": [
       "<Figure size 1080x576 with 1 Axes>"
      ]
     },
     "metadata": {},
     "output_type": "display_data"
    }
   ],
   "source": [
    "ax = sns.barplot(\n",
    "    data = df_grouped,\n",
    "    x = 'owner',\n",
    "    y = 'avg_price',\n",
    ")\n",
    "\n",
    "ax.set(\n",
    "    title = 'Preço Médio das motos pelos tipos de donos',\n",
    "    xlabel = 'Tipo de dono',\n",
    "    ylabel = 'Preço Médio'\n",
    ");"
   ]
  },
  {
   "cell_type": "markdown",
   "id": "7a850547",
   "metadata": {},
   "source": [
    "Como podemos observar, na média, as motos mais caras são as motos que tiveram 4 donos."
   ]
  },
  {
   "cell_type": "markdown",
   "id": "6aa6a5e9",
   "metadata": {},
   "source": [
    "#### 2. As motos que possuiram mais donos são as motos que possuem quilometragem média maior que as motos que possuiram menos donos?"
   ]
  },
  {
   "cell_type": "markdown",
   "id": "d9fea30c",
   "metadata": {
    "heading_collapsed": true
   },
   "source": [
    "##### Planejamento"
   ]
  },
  {
   "cell_type": "markdown",
   "id": "9e6fbb6c",
   "metadata": {
    "hidden": true
   },
   "source": [
    "Agrupar os dados por quantidade de donos e calcular a média de quilometros percorridos por cada categoria"
   ]
  },
  {
   "cell_type": "markdown",
   "id": "db156069",
   "metadata": {},
   "source": [
    "##### Resposta"
   ]
  },
  {
   "cell_type": "code",
   "execution_count": 132,
   "id": "699641a1",
   "metadata": {
    "ExecuteTime": {
     "end_time": "2022-07-20T22:35:43.301644Z",
     "start_time": "2022-07-20T22:35:43.285425Z"
    }
   },
   "outputs": [
    {
     "data": {
      "text/html": [
       "<div>\n",
       "<style scoped>\n",
       "    .dataframe tbody tr th:only-of-type {\n",
       "        vertical-align: middle;\n",
       "    }\n",
       "\n",
       "    .dataframe tbody tr th {\n",
       "        vertical-align: top;\n",
       "    }\n",
       "\n",
       "    .dataframe thead th {\n",
       "        text-align: right;\n",
       "    }\n",
       "</style>\n",
       "<table border=\"1\" class=\"dataframe\">\n",
       "  <thead>\n",
       "    <tr style=\"text-align: right;\">\n",
       "      <th></th>\n",
       "      <th>owner</th>\n",
       "      <th>km_driven</th>\n",
       "    </tr>\n",
       "  </thead>\n",
       "  <tbody>\n",
       "    <tr>\n",
       "      <th>0</th>\n",
       "      <td>4th owner</td>\n",
       "      <td>311500.000000</td>\n",
       "    </tr>\n",
       "    <tr>\n",
       "      <th>1</th>\n",
       "      <td>2nd owner</td>\n",
       "      <td>39288.991870</td>\n",
       "    </tr>\n",
       "    <tr>\n",
       "      <th>2</th>\n",
       "      <td>3rd owner</td>\n",
       "      <td>33292.181818</td>\n",
       "    </tr>\n",
       "    <tr>\n",
       "      <th>3</th>\n",
       "      <td>1st owner</td>\n",
       "      <td>32816.583333</td>\n",
       "    </tr>\n",
       "  </tbody>\n",
       "</table>\n",
       "</div>"
      ],
      "text/plain": [
       "       owner      km_driven\n",
       "0  4th owner  311500.000000\n",
       "1  2nd owner   39288.991870\n",
       "2  3rd owner   33292.181818\n",
       "3  1st owner   32816.583333"
      ]
     },
     "execution_count": 132,
     "metadata": {},
     "output_type": "execute_result"
    }
   ],
   "source": [
    "df_grouped = df1[['owner', 'km_driven']].groupby('owner')\n",
    "\n",
    "df_grouped = df_grouped.mean().sort_values('km_driven', ascending=False).reset_index()\n",
    "\n",
    "df_grouped"
   ]
  },
  {
   "cell_type": "code",
   "execution_count": 133,
   "metadata": {},
   "outputs": [
    {
     "data": {
      "image/png": "[encoded data removed]",
      "text/plain": [
       "<Figure size 1080x576 with 1 Axes>"
      ]
     },
     "metadata": {},
     "output_type": "display_data"
    }
   ],
   "source": [
    "ax = sns.barplot(\n",
    "    data = df_grouped,\n",
    "    x = 'owner',\n",
    "    y = 'km_driven'\n",
    ")\n",
    "\n",
    "ax.bar_label(ax.containers[0])\n",
    "\n",
    "ax.set(\n",
    "    title = 'Quilomentragem Médio por cada tipo de Dono',\n",
    "    xlabel = 'Tipo de Dono',\n",
    "    ylabel = 'Quilomentragem Média'\n",
    ");"
   ]
  },
  {
   "cell_type": "markdown",
   "id": "8007d6b7",
   "metadata": {},
   "source": [
    "Como podemos observar, na média as motos que possuíram mais donos são as motos com maior quilemetragem percorrida"
   ]
  },
  {
   "cell_type": "markdown",
   "id": "eb3a9242",
   "metadata": {},
   "source": [
    "#### 3. As motos que possuiram mais donos são as motos mais velhas na média?"
   ]
  },
  {
   "cell_type": "markdown",
   "id": "0f8e040a",
   "metadata": {
    "heading_collapsed": true
   },
   "source": [
    "##### Planejamento"
   ]
  },
  {
   "cell_type": "markdown",
   "id": "1aba8fa6",
   "metadata": {
    "hidden": true
   },
   "source": [
    "__Passos:__\n",
    "1. Criar a coluna chamada `age` que terá como conteúdo a idade de cada moto. \n",
    "2. Agrupar as motos pelo tipo de dono e calcular a média de idade para cada tipo de dono."
   ]
  },
  {
   "cell_type": "markdown",
   "id": "df948312",
   "metadata": {},
   "source": [
    "##### Resposta"
   ]
  },
  {
   "cell_type": "code",
   "execution_count": 134,
   "id": "a0b94941",
   "metadata": {
    "ExecuteTime": {
     "end_time": "2022-07-20T22:40:14.017421Z",
     "start_time": "2022-07-20T22:40:14.005337Z"
    }
   },
   "outputs": [
    {
     "data": {
      "text/html": [
       "<div>\n",
       "<style scoped>\n",
       "    .dataframe tbody tr th:only-of-type {\n",
       "        vertical-align: middle;\n",
       "    }\n",
       "\n",
       "    .dataframe tbody tr th {\n",
       "        vertical-align: top;\n",
       "    }\n",
       "\n",
       "    .dataframe thead th {\n",
       "        text-align: right;\n",
       "    }\n",
       "</style>\n",
       "<table border=\"1\" class=\"dataframe\">\n",
       "  <thead>\n",
       "    <tr style=\"text-align: right;\">\n",
       "      <th></th>\n",
       "      <th>owner</th>\n",
       "      <th>age</th>\n",
       "    </tr>\n",
       "  </thead>\n",
       "  <tbody>\n",
       "    <tr>\n",
       "      <th>0</th>\n",
       "      <td>4th owner</td>\n",
       "      <td>14</td>\n",
       "    </tr>\n",
       "    <tr>\n",
       "      <th>1</th>\n",
       "      <td>3rd owner</td>\n",
       "      <td>14</td>\n",
       "    </tr>\n",
       "    <tr>\n",
       "      <th>2</th>\n",
       "      <td>2nd owner</td>\n",
       "      <td>9</td>\n",
       "    </tr>\n",
       "    <tr>\n",
       "      <th>3</th>\n",
       "      <td>1st owner</td>\n",
       "      <td>7</td>\n",
       "    </tr>\n",
       "  </tbody>\n",
       "</table>\n",
       "</div>"
      ],
      "text/plain": [
       "       owner  age\n",
       "0  4th owner   14\n",
       "1  3rd owner   14\n",
       "2  2nd owner    9\n",
       "3  1st owner    7"
      ]
     },
     "execution_count": 134,
     "metadata": {},
     "output_type": "execute_result"
    }
   ],
   "source": [
    "df_grouped = df1[['owner', 'age']].groupby('owner')\n",
    "\n",
    "df_grouped = df_grouped.mean().sort_values('age', ascending=False).reset_index()\n",
    "\n",
    "df_grouped['age'] = df_grouped['age'].astype(int)\n",
    "\n",
    "df_grouped"
   ]
  },
  {
   "cell_type": "code",
   "execution_count": 135,
   "metadata": {},
   "outputs": [
    {
     "data": {
      "image/png": "[encoded data removed]",
      "text/plain": [
       "<Figure size 1080x576 with 1 Axes>"
      ]
     },
     "metadata": {},
     "output_type": "display_data"
    }
   ],
   "source": [
    "ax = sns.barplot(\n",
    "    data = df_grouped,\n",
    "    x = 'owner',\n",
    "    y = 'age'\n",
    ")\n",
    "\n",
    "ax.bar_label(ax.containers[0])\n",
    "\n",
    "ax.set(\n",
    "    title = 'Média de tempo de uso das motos por tipo de dono',\n",
    "    xlabel = 'Tipos de Dono',\n",
    "    ylabel = 'Média de tempo de Uso (idade)'\n",
    ");"
   ]
  },
  {
   "cell_type": "markdown",
   "id": "f65fbbbe",
   "metadata": {},
   "source": [
    "Como podemos observar, as motos que possuiram mais donos são sim as motos com maior idade média dentro da base de dados."
   ]
  },
  {
   "cell_type": "markdown",
   "id": "3ddd42ae",
   "metadata": {},
   "source": [
    "#### 4. As motos que são vendidas por revendedores são as motos mais caras na média do que as motos vendidas pelos seus donos?"
   ]
  },
  {
   "cell_type": "markdown",
   "id": "794d732f",
   "metadata": {
    "heading_collapsed": true
   },
   "source": [
    "##### Planejamento"
   ]
  },
  {
   "cell_type": "markdown",
   "id": "7502f8c4",
   "metadata": {
    "hidden": true
   },
   "source": [
    "Agrupar os dados pelos tipos de vendedores e calcular a média do preço de venda por tipo de vendedor"
   ]
  },
  {
   "cell_type": "markdown",
   "id": "e7398ada",
   "metadata": {},
   "source": [
    "##### Resposta"
   ]
  },
  {
   "cell_type": "code",
   "execution_count": 136,
   "id": "3a6f34b3",
   "metadata": {
    "ExecuteTime": {
     "end_time": "2022-07-20T22:45:37.653202Z",
     "start_time": "2022-07-20T22:45:37.628661Z"
    }
   },
   "outputs": [
    {
     "data": {
      "text/html": [
       "<div>\n",
       "<style scoped>\n",
       "    .dataframe tbody tr th:only-of-type {\n",
       "        vertical-align: middle;\n",
       "    }\n",
       "\n",
       "    .dataframe tbody tr th {\n",
       "        vertical-align: top;\n",
       "    }\n",
       "\n",
       "    .dataframe thead th {\n",
       "        text-align: right;\n",
       "    }\n",
       "</style>\n",
       "<table border=\"1\" class=\"dataframe\">\n",
       "  <thead>\n",
       "    <tr style=\"text-align: right;\">\n",
       "      <th></th>\n",
       "      <th>seller_type</th>\n",
       "      <th>avg_price</th>\n",
       "      <th>median_price</th>\n",
       "      <th>std_price</th>\n",
       "      <th>qty</th>\n",
       "    </tr>\n",
       "  </thead>\n",
       "  <tbody>\n",
       "    <tr>\n",
       "      <th>0</th>\n",
       "      <td>Individual</td>\n",
       "      <td>59711.923223</td>\n",
       "      <td>45000.0</td>\n",
       "      <td>56427.961672</td>\n",
       "      <td>1055</td>\n",
       "    </tr>\n",
       "    <tr>\n",
       "      <th>1</th>\n",
       "      <td>Dealer</td>\n",
       "      <td>46666.666667</td>\n",
       "      <td>44000.0</td>\n",
       "      <td>25734.542286</td>\n",
       "      <td>6</td>\n",
       "    </tr>\n",
       "  </tbody>\n",
       "</table>\n",
       "</div>"
      ],
      "text/plain": [
       "  seller_type     avg_price  median_price     std_price   qty\n",
       "0  Individual  59711.923223       45000.0  56427.961672  1055\n",
       "1      Dealer  46666.666667       44000.0  25734.542286     6"
      ]
     },
     "execution_count": 136,
     "metadata": {},
     "output_type": "execute_result"
    }
   ],
   "source": [
    "df_grouped = df1[['seller_type', 'selling_price']].groupby('seller_type')\n",
    "\n",
    "df_grouped = df_grouped.agg(\n",
    "    avg_price = pd.NamedAgg('selling_price', 'mean'),\n",
    "    median_price = pd.NamedAgg('selling_price', 'median'),\n",
    "    std_price = pd.NamedAgg('selling_price', 'std'),\n",
    "    qty = pd.NamedAgg('seller_type', 'count'),\n",
    ").sort_values('avg_price', ascending=False).reset_index()\n",
    "\n",
    "df_grouped"
   ]
  },
  {
   "cell_type": "code",
   "execution_count": 137,
   "metadata": {},
   "outputs": [
    {
     "data": {
      "image/png": "[encoded data removed]",
      "text/plain": [
       "<Figure size 1080x576 with 1 Axes>"
      ]
     },
     "metadata": {},
     "output_type": "display_data"
    }
   ],
   "source": [
    "ax = sns.barplot(\n",
    "    data = df_grouped,\n",
    "    x = 'seller_type',\n",
    "    y = 'avg_price'\n",
    ")\n",
    "\n",
    "ax.bar_label(ax.containers[0])\n",
    "\n",
    "ax.set(\n",
    "    title = 'Média de preço de venda das motos por tipo de dono',\n",
    "    xlabel = 'Tipos de Dono',\n",
    "    ylabel = 'Média de preço de venda'\n",
    ");"
   ]
  },
  {
   "cell_type": "markdown",
   "id": "6a34d040",
   "metadata": {},
   "source": [
    "Como podemos observar, as motos que são revendidas pelos seus donos são as mais caras na média."
   ]
  },
  {
   "cell_type": "markdown",
   "id": "b1dd646b",
   "metadata": {},
   "source": [
    "#### 5. O CEO lhe entregou um novo dataset chamado `companies.csv`, onde estão todas as fabricantes de motocicletas. Adicione uma coluna no DataFrame com o nome de `company`. Essa coluna deve possuir o nome do fabricante de cada moto do DataFrame."
   ]
  },
  {
   "cell_type": "markdown",
   "id": "7159e48c",
   "metadata": {
    "heading_collapsed": true
   },
   "source": [
    "##### Planejamento"
   ]
  },
  {
   "cell_type": "markdown",
   "id": "8f6d6c33",
   "metadata": {
    "hidden": true
   },
   "source": [
    "__Passos:__\n",
    "1. O novo dataset está dentro do diretório **data/raw** com o nome `companies.csv`. \n",
    "2. Fazer a leitura do arquivo e guardar as infomações dentro de um DataFrame.\n",
    "3. Percorrer os dados do DataFrame de motos e verificar no DataFrame de fabricantes qual é o fabricante da motocicleta em questão\n",
    "    1. Preencher a coluna `company` com o nome do fabricante encontrado."
   ]
  },
  {
   "cell_type": "markdown",
   "id": "aba5431e",
   "metadata": {},
   "source": [
    "##### Resposta"
   ]
  },
  {
   "cell_type": "markdown",
   "id": "c891bc81",
   "metadata": {
    "hidden": true
   },
   "source": [
    "Processo já realizado na preparação dos dados"
   ]
  },
  {
   "cell_type": "markdown",
   "id": "f44b9ca8",
   "metadata": {},
   "source": [
    "#### 6. Crie um novo dataset chamado `bikes_completed.csv` a partir do DataFrame com a coluna company preenchida."
   ]
  },
  {
   "cell_type": "markdown",
   "id": "deff12d2",
   "metadata": {
    "heading_collapsed": true
   },
   "source": [
    "##### Planejamento"
   ]
  },
  {
   "cell_type": "markdown",
   "id": "c444afbe",
   "metadata": {
    "hidden": true
   },
   "source": [
    "__Passos:__\n",
    "1. Criar um novo Dataset chamado `bikes_completed` utilizando a função `df.to_csv()` a partir do DataFrame criado na questão anterior\n",
    "2. Salvar o arquivo criado dentro do diretório `data/processed`"
   ]
  },
  {
   "cell_type": "markdown",
   "id": "b523f88f",
   "metadata": {},
   "source": [
    "##### Resposta"
   ]
  },
  {
   "cell_type": "code",
   "execution_count": 138,
   "id": "35bf13cf",
   "metadata": {
    "ExecuteTime": {
     "end_time": "2022-07-25T22:33:20.143931Z",
     "start_time": "2022-07-25T22:33:20.133248Z"
    }
   },
   "outputs": [],
   "source": [
    "df1.to_csv('../data/processed/bikes_completed.csv', index=False)"
   ]
  },
  {
   "cell_type": "markdown",
   "id": "7c29cbd6",
   "metadata": {},
   "source": [
    "#### 7. Quais são so fabricantes que mais possuem motos cadastradas na base de dados completa?"
   ]
  },
  {
   "cell_type": "markdown",
   "id": "818a2da7",
   "metadata": {
    "heading_collapsed": true
   },
   "source": [
    "##### Planejamento"
   ]
  },
  {
   "cell_type": "markdown",
   "id": "97ee8d46",
   "metadata": {
    "hidden": true
   },
   "source": [
    "Agrupar os dados pelos fabricantes e contar a quantidade de dados que cada fabricante possui"
   ]
  },
  {
   "cell_type": "markdown",
   "id": "0ada4a4f",
   "metadata": {
    "heading_collapsed": true
   },
   "source": [
    "##### Resposta"
   ]
  },
  {
   "cell_type": "code",
   "execution_count": 139,
   "metadata": {},
   "outputs": [
    {
     "data": {
      "text/html": [
       "<div>\n",
       "<style scoped>\n",
       "    .dataframe tbody tr th:only-of-type {\n",
       "        vertical-align: middle;\n",
       "    }\n",
       "\n",
       "    .dataframe tbody tr th {\n",
       "        vertical-align: top;\n",
       "    }\n",
       "\n",
       "    .dataframe thead th {\n",
       "        text-align: right;\n",
       "    }\n",
       "</style>\n",
       "<table border=\"1\" class=\"dataframe\">\n",
       "  <thead>\n",
       "    <tr style=\"text-align: right;\">\n",
       "      <th></th>\n",
       "      <th>id</th>\n",
       "      <th>name</th>\n",
       "      <th>selling_price</th>\n",
       "      <th>year</th>\n",
       "      <th>seller_type</th>\n",
       "      <th>owner</th>\n",
       "      <th>km_driven</th>\n",
       "      <th>ex_showroom_price</th>\n",
       "      <th>age</th>\n",
       "      <th>km_class</th>\n",
       "      <th>km_per_year</th>\n",
       "      <th>km_per_month</th>\n",
       "      <th>company</th>\n",
       "    </tr>\n",
       "  </thead>\n",
       "  <tbody>\n",
       "    <tr>\n",
       "      <th>0</th>\n",
       "      <td>0</td>\n",
       "      <td>Royal Enfield Classic 350</td>\n",
       "      <td>175000.0</td>\n",
       "      <td>2019</td>\n",
       "      <td>Individual</td>\n",
       "      <td>1st owner</td>\n",
       "      <td>350</td>\n",
       "      <td>NaN</td>\n",
       "      <td>3</td>\n",
       "      <td>1</td>\n",
       "      <td>116.667</td>\n",
       "      <td>9.722</td>\n",
       "      <td>Royal Enfield</td>\n",
       "    </tr>\n",
       "    <tr>\n",
       "      <th>1</th>\n",
       "      <td>1</td>\n",
       "      <td>Honda Dio</td>\n",
       "      <td>45000.0</td>\n",
       "      <td>2017</td>\n",
       "      <td>Individual</td>\n",
       "      <td>1st owner</td>\n",
       "      <td>5650</td>\n",
       "      <td>NaN</td>\n",
       "      <td>5</td>\n",
       "      <td>2</td>\n",
       "      <td>1130.000</td>\n",
       "      <td>94.167</td>\n",
       "      <td>Honda</td>\n",
       "    </tr>\n",
       "    <tr>\n",
       "      <th>2</th>\n",
       "      <td>2</td>\n",
       "      <td>Royal Enfield Classic Gunmetal Grey</td>\n",
       "      <td>150000.0</td>\n",
       "      <td>2018</td>\n",
       "      <td>Individual</td>\n",
       "      <td>1st owner</td>\n",
       "      <td>12000</td>\n",
       "      <td>148114.0</td>\n",
       "      <td>4</td>\n",
       "      <td>3</td>\n",
       "      <td>3000.000</td>\n",
       "      <td>250.000</td>\n",
       "      <td>Royal Enfield</td>\n",
       "    </tr>\n",
       "    <tr>\n",
       "      <th>3</th>\n",
       "      <td>3</td>\n",
       "      <td>Yamaha Fazer FI V 2.0 [2016-2018]</td>\n",
       "      <td>65000.0</td>\n",
       "      <td>2015</td>\n",
       "      <td>Individual</td>\n",
       "      <td>1st owner</td>\n",
       "      <td>23000</td>\n",
       "      <td>89643.0</td>\n",
       "      <td>7</td>\n",
       "      <td>5</td>\n",
       "      <td>3285.714</td>\n",
       "      <td>273.810</td>\n",
       "      <td>Yamaha</td>\n",
       "    </tr>\n",
       "    <tr>\n",
       "      <th>4</th>\n",
       "      <td>4</td>\n",
       "      <td>Yamaha SZ [2013-2014]</td>\n",
       "      <td>20000.0</td>\n",
       "      <td>2011</td>\n",
       "      <td>Individual</td>\n",
       "      <td>2nd owner</td>\n",
       "      <td>21000</td>\n",
       "      <td>NaN</td>\n",
       "      <td>11</td>\n",
       "      <td>5</td>\n",
       "      <td>1909.091</td>\n",
       "      <td>159.091</td>\n",
       "      <td>Yamaha</td>\n",
       "    </tr>\n",
       "  </tbody>\n",
       "</table>\n",
       "</div>"
      ],
      "text/plain": [
       "   id                                 name  selling_price  year seller_type  \\\n",
       "0   0            Royal Enfield Classic 350       175000.0  2019  Individual   \n",
       "1   1                            Honda Dio        45000.0  2017  Individual   \n",
       "2   2  Royal Enfield Classic Gunmetal Grey       150000.0  2018  Individual   \n",
       "3   3    Yamaha Fazer FI V 2.0 [2016-2018]        65000.0  2015  Individual   \n",
       "4   4                Yamaha SZ [2013-2014]        20000.0  2011  Individual   \n",
       "\n",
       "       owner  km_driven  ex_showroom_price  age  km_class  km_per_year  \\\n",
       "0  1st owner        350                NaN    3         1      116.667   \n",
       "1  1st owner       5650                NaN    5         2     1130.000   \n",
       "2  1st owner      12000           148114.0    4         3     3000.000   \n",
       "3  1st owner      23000            89643.0    7         5     3285.714   \n",
       "4  2nd owner      21000                NaN   11         5     1909.091   \n",
       "\n",
       "   km_per_month        company  \n",
       "0         9.722  Royal Enfield  \n",
       "1        94.167          Honda  \n",
       "2       250.000  Royal Enfield  \n",
       "3       273.810         Yamaha  \n",
       "4       159.091         Yamaha  "
      ]
     },
     "execution_count": 139,
     "metadata": {},
     "output_type": "execute_result"
    }
   ],
   "source": [
    "df1.head()"
   ]
  },
  {
   "cell_type": "code",
   "execution_count": 140,
   "id": "9391ae5c",
   "metadata": {
    "ExecuteTime": {
     "end_time": "2022-07-20T21:47:24.999368Z",
     "start_time": "2022-07-20T21:47:24.988355Z"
    },
    "hidden": true
   },
   "outputs": [
    {
     "data": {
      "text/html": [
       "<div>\n",
       "<style scoped>\n",
       "    .dataframe tbody tr th:only-of-type {\n",
       "        vertical-align: middle;\n",
       "    }\n",
       "\n",
       "    .dataframe tbody tr th {\n",
       "        vertical-align: top;\n",
       "    }\n",
       "\n",
       "    .dataframe thead th {\n",
       "        text-align: right;\n",
       "    }\n",
       "</style>\n",
       "<table border=\"1\" class=\"dataframe\">\n",
       "  <thead>\n",
       "    <tr style=\"text-align: right;\">\n",
       "      <th></th>\n",
       "      <th>company</th>\n",
       "      <th>id</th>\n",
       "    </tr>\n",
       "  </thead>\n",
       "  <tbody>\n",
       "    <tr>\n",
       "      <th>0</th>\n",
       "      <td>Bajaj</td>\n",
       "      <td>260</td>\n",
       "    </tr>\n",
       "    <tr>\n",
       "      <th>1</th>\n",
       "      <td>Honda</td>\n",
       "      <td>204</td>\n",
       "    </tr>\n",
       "    <tr>\n",
       "      <th>2</th>\n",
       "      <td>Hero</td>\n",
       "      <td>144</td>\n",
       "    </tr>\n",
       "    <tr>\n",
       "      <th>3</th>\n",
       "      <td>Royal Enfield</td>\n",
       "      <td>109</td>\n",
       "    </tr>\n",
       "    <tr>\n",
       "      <th>4</th>\n",
       "      <td>Yamaha</td>\n",
       "      <td>102</td>\n",
       "    </tr>\n",
       "    <tr>\n",
       "      <th>5</th>\n",
       "      <td>Hero Honda</td>\n",
       "      <td>88</td>\n",
       "    </tr>\n",
       "    <tr>\n",
       "      <th>6</th>\n",
       "      <td>TVS</td>\n",
       "      <td>69</td>\n",
       "    </tr>\n",
       "    <tr>\n",
       "      <th>7</th>\n",
       "      <td>Suzuki</td>\n",
       "      <td>30</td>\n",
       "    </tr>\n",
       "    <tr>\n",
       "      <th>8</th>\n",
       "      <td>KTM</td>\n",
       "      <td>24</td>\n",
       "    </tr>\n",
       "    <tr>\n",
       "      <th>9</th>\n",
       "      <td>Mahindra</td>\n",
       "      <td>6</td>\n",
       "    </tr>\n",
       "    <tr>\n",
       "      <th>10</th>\n",
       "      <td>Vespa</td>\n",
       "      <td>4</td>\n",
       "    </tr>\n",
       "    <tr>\n",
       "      <th>11</th>\n",
       "      <td>Kawasaki</td>\n",
       "      <td>4</td>\n",
       "    </tr>\n",
       "    <tr>\n",
       "      <th>12</th>\n",
       "      <td>Activa</td>\n",
       "      <td>3</td>\n",
       "    </tr>\n",
       "    <tr>\n",
       "      <th>13</th>\n",
       "      <td>UM</td>\n",
       "      <td>3</td>\n",
       "    </tr>\n",
       "    <tr>\n",
       "      <th>14</th>\n",
       "      <td>Jawa</td>\n",
       "      <td>3</td>\n",
       "    </tr>\n",
       "    <tr>\n",
       "      <th>15</th>\n",
       "      <td>Aprilia</td>\n",
       "      <td>2</td>\n",
       "    </tr>\n",
       "    <tr>\n",
       "      <th>16</th>\n",
       "      <td>Harley-Davidson</td>\n",
       "      <td>2</td>\n",
       "    </tr>\n",
       "    <tr>\n",
       "      <th>17</th>\n",
       "      <td>Hyosung</td>\n",
       "      <td>1</td>\n",
       "    </tr>\n",
       "    <tr>\n",
       "      <th>18</th>\n",
       "      <td>Benelli</td>\n",
       "      <td>1</td>\n",
       "    </tr>\n",
       "    <tr>\n",
       "      <th>19</th>\n",
       "      <td>BMW</td>\n",
       "      <td>1</td>\n",
       "    </tr>\n",
       "    <tr>\n",
       "      <th>20</th>\n",
       "      <td>Yo</td>\n",
       "      <td>1</td>\n",
       "    </tr>\n",
       "  </tbody>\n",
       "</table>\n",
       "</div>"
      ],
      "text/plain": [
       "            company   id\n",
       "0             Bajaj  260\n",
       "1             Honda  204\n",
       "2              Hero  144\n",
       "3     Royal Enfield  109\n",
       "4            Yamaha  102\n",
       "5        Hero Honda   88\n",
       "6               TVS   69\n",
       "7            Suzuki   30\n",
       "8               KTM   24\n",
       "9          Mahindra    6\n",
       "10            Vespa    4\n",
       "11         Kawasaki    4\n",
       "12           Activa    3\n",
       "13               UM    3\n",
       "14             Jawa    3\n",
       "15          Aprilia    2\n",
       "16  Harley-Davidson    2\n",
       "17          Hyosung    1\n",
       "18          Benelli    1\n",
       "19              BMW    1\n",
       "20               Yo    1"
      ]
     },
     "execution_count": 140,
     "metadata": {},
     "output_type": "execute_result"
    }
   ],
   "source": [
    "df_grouped = df1.loc[:, ['company', 'id']].groupby('company')\n",
    "\n",
    "df_grouped = df_grouped.count().sort_values('id', ascending=False).reset_index()\n",
    "\n",
    "df_grouped"
   ]
  },
  {
   "cell_type": "code",
   "execution_count": 141,
   "metadata": {},
   "outputs": [
    {
     "data": {
      "image/png": "[encoded data removed]",
      "text/plain": [
       "<Figure size 1080x576 with 1 Axes>"
      ]
     },
     "metadata": {},
     "output_type": "display_data"
    }
   ],
   "source": [
    "ax = sns.barplot(\n",
    "    data = df_grouped,\n",
    "    x = 'company',\n",
    "    y = 'id'\n",
    ")\n",
    "\n",
    "ax.bar_label(ax.containers[0])\n",
    "\n",
    "ax.set(\n",
    "    title = 'Quantidade de Motos por Fabricante',\n",
    "    xlabel = 'Fabricantes',\n",
    "    ylabel = 'Quantidade de Motos Registradas'\n",
    ")\n",
    "\n",
    "plt.xticks(rotation = 80);"
   ]
  },
  {
   "cell_type": "markdown",
   "id": "fcca8ba7",
   "metadata": {
    "hidden": true
   },
   "source": [
    "Como podemos observar, a fabricante que mais possui motos cadastradas na base de dados é a Bajaj"
   ]
  },
  {
   "cell_type": "markdown",
   "metadata": {},
   "source": [
    "### Terceira Rodada"
   ]
  },
  {
   "cell_type": "markdown",
   "id": "b3cb9c69",
   "metadata": {},
   "source": [
    "#### 1. Ajustar a coluna `name` para que ela fique somente com o nome da moto."
   ]
  },
  {
   "cell_type": "markdown",
   "id": "74c76201",
   "metadata": {},
   "source": [
    "##### Planejamento"
   ]
  },
  {
   "cell_type": "markdown",
   "id": "00b3f049",
   "metadata": {},
   "source": [
    "__Passos:__\n",
    "1. Todos os registros da coluna `name` iniciam com os nomes dos seus respectivos fabricantes.\n",
    "2. Percorrer todos os dados e substituir o nome do fabricante por nenhum caractere"
   ]
  },
  {
   "cell_type": "markdown",
   "id": "aba08194",
   "metadata": {
    "heading_collapsed": true
   },
   "source": [
    "##### Resposta"
   ]
  },
  {
   "cell_type": "code",
   "execution_count": 142,
   "id": "d8cc0791",
   "metadata": {
    "hidden": true
   },
   "outputs": [
    {
     "data": {
      "text/html": [
       "<div>\n",
       "<style scoped>\n",
       "    .dataframe tbody tr th:only-of-type {\n",
       "        vertical-align: middle;\n",
       "    }\n",
       "\n",
       "    .dataframe tbody tr th {\n",
       "        vertical-align: top;\n",
       "    }\n",
       "\n",
       "    .dataframe thead th {\n",
       "        text-align: right;\n",
       "    }\n",
       "</style>\n",
       "<table border=\"1\" class=\"dataframe\">\n",
       "  <thead>\n",
       "    <tr style=\"text-align: right;\">\n",
       "      <th></th>\n",
       "      <th>id</th>\n",
       "      <th>name</th>\n",
       "      <th>selling_price</th>\n",
       "      <th>year</th>\n",
       "      <th>seller_type</th>\n",
       "      <th>owner</th>\n",
       "      <th>km_driven</th>\n",
       "      <th>ex_showroom_price</th>\n",
       "      <th>age</th>\n",
       "      <th>km_class</th>\n",
       "      <th>km_per_year</th>\n",
       "      <th>km_per_month</th>\n",
       "      <th>company</th>\n",
       "    </tr>\n",
       "  </thead>\n",
       "  <tbody>\n",
       "    <tr>\n",
       "      <th>0</th>\n",
       "      <td>0</td>\n",
       "      <td>Classic 350</td>\n",
       "      <td>175000.0</td>\n",
       "      <td>2019</td>\n",
       "      <td>Individual</td>\n",
       "      <td>1st owner</td>\n",
       "      <td>350</td>\n",
       "      <td>NaN</td>\n",
       "      <td>3</td>\n",
       "      <td>1</td>\n",
       "      <td>116.667</td>\n",
       "      <td>9.722</td>\n",
       "      <td>Royal Enfield</td>\n",
       "    </tr>\n",
       "    <tr>\n",
       "      <th>1</th>\n",
       "      <td>1</td>\n",
       "      <td>Dio</td>\n",
       "      <td>45000.0</td>\n",
       "      <td>2017</td>\n",
       "      <td>Individual</td>\n",
       "      <td>1st owner</td>\n",
       "      <td>5650</td>\n",
       "      <td>NaN</td>\n",
       "      <td>5</td>\n",
       "      <td>2</td>\n",
       "      <td>1130.000</td>\n",
       "      <td>94.167</td>\n",
       "      <td>Honda</td>\n",
       "    </tr>\n",
       "    <tr>\n",
       "      <th>2</th>\n",
       "      <td>2</td>\n",
       "      <td>Classic Gunmetal Grey</td>\n",
       "      <td>150000.0</td>\n",
       "      <td>2018</td>\n",
       "      <td>Individual</td>\n",
       "      <td>1st owner</td>\n",
       "      <td>12000</td>\n",
       "      <td>148114.0</td>\n",
       "      <td>4</td>\n",
       "      <td>3</td>\n",
       "      <td>3000.000</td>\n",
       "      <td>250.000</td>\n",
       "      <td>Royal Enfield</td>\n",
       "    </tr>\n",
       "    <tr>\n",
       "      <th>3</th>\n",
       "      <td>3</td>\n",
       "      <td>Fazer FI V 2.0 [2016-2018]</td>\n",
       "      <td>65000.0</td>\n",
       "      <td>2015</td>\n",
       "      <td>Individual</td>\n",
       "      <td>1st owner</td>\n",
       "      <td>23000</td>\n",
       "      <td>89643.0</td>\n",
       "      <td>7</td>\n",
       "      <td>5</td>\n",
       "      <td>3285.714</td>\n",
       "      <td>273.810</td>\n",
       "      <td>Yamaha</td>\n",
       "    </tr>\n",
       "    <tr>\n",
       "      <th>4</th>\n",
       "      <td>4</td>\n",
       "      <td>SZ [2013-2014]</td>\n",
       "      <td>20000.0</td>\n",
       "      <td>2011</td>\n",
       "      <td>Individual</td>\n",
       "      <td>2nd owner</td>\n",
       "      <td>21000</td>\n",
       "      <td>NaN</td>\n",
       "      <td>11</td>\n",
       "      <td>5</td>\n",
       "      <td>1909.091</td>\n",
       "      <td>159.091</td>\n",
       "      <td>Yamaha</td>\n",
       "    </tr>\n",
       "  </tbody>\n",
       "</table>\n",
       "</div>"
      ],
      "text/plain": [
       "   id                        name  selling_price  year seller_type      owner  \\\n",
       "0   0                 Classic 350       175000.0  2019  Individual  1st owner   \n",
       "1   1                         Dio        45000.0  2017  Individual  1st owner   \n",
       "2   2       Classic Gunmetal Grey       150000.0  2018  Individual  1st owner   \n",
       "3   3  Fazer FI V 2.0 [2016-2018]        65000.0  2015  Individual  1st owner   \n",
       "4   4              SZ [2013-2014]        20000.0  2011  Individual  2nd owner   \n",
       "\n",
       "   km_driven  ex_showroom_price  age  km_class  km_per_year  km_per_month  \\\n",
       "0        350                NaN    3         1      116.667         9.722   \n",
       "1       5650                NaN    5         2     1130.000        94.167   \n",
       "2      12000           148114.0    4         3     3000.000       250.000   \n",
       "3      23000            89643.0    7         5     3285.714       273.810   \n",
       "4      21000                NaN   11         5     1909.091       159.091   \n",
       "\n",
       "         company  \n",
       "0  Royal Enfield  \n",
       "1          Honda  \n",
       "2  Royal Enfield  \n",
       "3         Yamaha  \n",
       "4         Yamaha  "
      ]
     },
     "execution_count": 142,
     "metadata": {},
     "output_type": "execute_result"
    }
   ],
   "source": [
    "df1['name'] = df1.apply(lambda line: line['name'].replace(f\"{line['company']} \", ''), axis=1)\n",
    "\n",
    "df1.head()"
   ]
  },
  {
   "cell_type": "markdown",
   "id": "6aa6a5e9",
   "metadata": {},
   "source": [
    "#### 2. Qual das fabricantes possui o maior preço médio de suas motos?"
   ]
  },
  {
   "cell_type": "markdown",
   "id": "9170203d",
   "metadata": {},
   "source": [
    "##### Planejamento"
   ]
  },
  {
   "cell_type": "markdown",
   "id": "63b4e7ff",
   "metadata": {},
   "source": [
    "Agrupar os dados por fabricante e calcular a média do preço de revenda de cada fabricante"
   ]
  },
  {
   "cell_type": "markdown",
   "id": "dba774c9",
   "metadata": {},
   "source": [
    "##### Resposta"
   ]
  },
  {
   "cell_type": "code",
   "execution_count": 143,
   "metadata": {},
   "outputs": [
    {
     "data": {
      "text/html": [
       "<div>\n",
       "<style scoped>\n",
       "    .dataframe tbody tr th:only-of-type {\n",
       "        vertical-align: middle;\n",
       "    }\n",
       "\n",
       "    .dataframe tbody tr th {\n",
       "        vertical-align: top;\n",
       "    }\n",
       "\n",
       "    .dataframe thead th {\n",
       "        text-align: right;\n",
       "    }\n",
       "</style>\n",
       "<table border=\"1\" class=\"dataframe\">\n",
       "  <thead>\n",
       "    <tr style=\"text-align: right;\">\n",
       "      <th></th>\n",
       "      <th>company</th>\n",
       "      <th>avg_price</th>\n",
       "      <th>median_price</th>\n",
       "      <th>std_price</th>\n",
       "      <th>qty</th>\n",
       "    </tr>\n",
       "  </thead>\n",
       "  <tbody>\n",
       "    <tr>\n",
       "      <th>0</th>\n",
       "      <td>Harley-Davidson</td>\n",
       "      <td>540000.000000</td>\n",
       "      <td>540000.0</td>\n",
       "      <td>296984.848098</td>\n",
       "      <td>2</td>\n",
       "    </tr>\n",
       "    <tr>\n",
       "      <th>1</th>\n",
       "      <td>BMW</td>\n",
       "      <td>300000.000000</td>\n",
       "      <td>300000.0</td>\n",
       "      <td>NaN</td>\n",
       "      <td>1</td>\n",
       "    </tr>\n",
       "    <tr>\n",
       "      <th>2</th>\n",
       "      <td>Kawasaki</td>\n",
       "      <td>287500.000000</td>\n",
       "      <td>300000.0</td>\n",
       "      <td>123322.071558</td>\n",
       "      <td>4</td>\n",
       "    </tr>\n",
       "    <tr>\n",
       "      <th>3</th>\n",
       "      <td>Jawa</td>\n",
       "      <td>175000.000000</td>\n",
       "      <td>180000.0</td>\n",
       "      <td>13228.756555</td>\n",
       "      <td>3</td>\n",
       "    </tr>\n",
       "    <tr>\n",
       "      <th>4</th>\n",
       "      <td>Benelli</td>\n",
       "      <td>160000.000000</td>\n",
       "      <td>160000.0</td>\n",
       "      <td>NaN</td>\n",
       "      <td>1</td>\n",
       "    </tr>\n",
       "    <tr>\n",
       "      <th>5</th>\n",
       "      <td>UM</td>\n",
       "      <td>156666.666667</td>\n",
       "      <td>160000.0</td>\n",
       "      <td>15275.252317</td>\n",
       "      <td>3</td>\n",
       "    </tr>\n",
       "    <tr>\n",
       "      <th>6</th>\n",
       "      <td>KTM</td>\n",
       "      <td>155708.333333</td>\n",
       "      <td>142500.0</td>\n",
       "      <td>41560.306279</td>\n",
       "      <td>24</td>\n",
       "    </tr>\n",
       "    <tr>\n",
       "      <th>7</th>\n",
       "      <td>Hyosung</td>\n",
       "      <td>135000.000000</td>\n",
       "      <td>135000.0</td>\n",
       "      <td>NaN</td>\n",
       "      <td>1</td>\n",
       "    </tr>\n",
       "    <tr>\n",
       "      <th>8</th>\n",
       "      <td>Royal Enfield</td>\n",
       "      <td>128549.541284</td>\n",
       "      <td>123000.0</td>\n",
       "      <td>42971.124292</td>\n",
       "      <td>109</td>\n",
       "    </tr>\n",
       "    <tr>\n",
       "      <th>9</th>\n",
       "      <td>Suzuki</td>\n",
       "      <td>73800.000000</td>\n",
       "      <td>45000.0</td>\n",
       "      <td>131871.515316</td>\n",
       "      <td>30</td>\n",
       "    </tr>\n",
       "    <tr>\n",
       "      <th>10</th>\n",
       "      <td>Aprilia</td>\n",
       "      <td>70000.000000</td>\n",
       "      <td>70000.0</td>\n",
       "      <td>7071.067812</td>\n",
       "      <td>2</td>\n",
       "    </tr>\n",
       "    <tr>\n",
       "      <th>11</th>\n",
       "      <td>Vespa</td>\n",
       "      <td>68250.000000</td>\n",
       "      <td>65000.0</td>\n",
       "      <td>25144.581921</td>\n",
       "      <td>4</td>\n",
       "    </tr>\n",
       "    <tr>\n",
       "      <th>12</th>\n",
       "      <td>Yamaha</td>\n",
       "      <td>63656.862745</td>\n",
       "      <td>55500.0</td>\n",
       "      <td>43096.138234</td>\n",
       "      <td>102</td>\n",
       "    </tr>\n",
       "    <tr>\n",
       "      <th>13</th>\n",
       "      <td>Mahindra</td>\n",
       "      <td>62833.333333</td>\n",
       "      <td>27500.0</td>\n",
       "      <td>61920.648145</td>\n",
       "      <td>6</td>\n",
       "    </tr>\n",
       "    <tr>\n",
       "      <th>14</th>\n",
       "      <td>TVS</td>\n",
       "      <td>46374.014493</td>\n",
       "      <td>35000.0</td>\n",
       "      <td>34249.179314</td>\n",
       "      <td>69</td>\n",
       "    </tr>\n",
       "    <tr>\n",
       "      <th>15</th>\n",
       "      <td>Bajaj</td>\n",
       "      <td>44990.380769</td>\n",
       "      <td>40000.0</td>\n",
       "      <td>28376.045280</td>\n",
       "      <td>260</td>\n",
       "    </tr>\n",
       "    <tr>\n",
       "      <th>16</th>\n",
       "      <td>Honda</td>\n",
       "      <td>44916.044118</td>\n",
       "      <td>42000.0</td>\n",
       "      <td>21998.783218</td>\n",
       "      <td>204</td>\n",
       "    </tr>\n",
       "    <tr>\n",
       "      <th>17</th>\n",
       "      <td>Hero</td>\n",
       "      <td>40762.500000</td>\n",
       "      <td>38500.0</td>\n",
       "      <td>17202.536303</td>\n",
       "      <td>144</td>\n",
       "    </tr>\n",
       "    <tr>\n",
       "      <th>18</th>\n",
       "      <td>Activa</td>\n",
       "      <td>34000.000000</td>\n",
       "      <td>40000.0</td>\n",
       "      <td>14933.184523</td>\n",
       "      <td>3</td>\n",
       "    </tr>\n",
       "    <tr>\n",
       "      <th>19</th>\n",
       "      <td>Hero Honda</td>\n",
       "      <td>24525.000000</td>\n",
       "      <td>24850.0</td>\n",
       "      <td>11006.019774</td>\n",
       "      <td>88</td>\n",
       "    </tr>\n",
       "    <tr>\n",
       "      <th>20</th>\n",
       "      <td>Yo</td>\n",
       "      <td>20000.000000</td>\n",
       "      <td>20000.0</td>\n",
       "      <td>NaN</td>\n",
       "      <td>1</td>\n",
       "    </tr>\n",
       "  </tbody>\n",
       "</table>\n",
       "</div>"
      ],
      "text/plain": [
       "            company      avg_price  median_price      std_price  qty\n",
       "0   Harley-Davidson  540000.000000      540000.0  296984.848098    2\n",
       "1               BMW  300000.000000      300000.0            NaN    1\n",
       "2          Kawasaki  287500.000000      300000.0  123322.071558    4\n",
       "3              Jawa  175000.000000      180000.0   13228.756555    3\n",
       "4           Benelli  160000.000000      160000.0            NaN    1\n",
       "5                UM  156666.666667      160000.0   15275.252317    3\n",
       "6               KTM  155708.333333      142500.0   41560.306279   24\n",
       "7           Hyosung  135000.000000      135000.0            NaN    1\n",
       "8     Royal Enfield  128549.541284      123000.0   42971.124292  109\n",
       "9            Suzuki   73800.000000       45000.0  131871.515316   30\n",
       "10          Aprilia   70000.000000       70000.0    7071.067812    2\n",
       "11            Vespa   68250.000000       65000.0   25144.581921    4\n",
       "12           Yamaha   63656.862745       55500.0   43096.138234  102\n",
       "13         Mahindra   62833.333333       27500.0   61920.648145    6\n",
       "14              TVS   46374.014493       35000.0   34249.179314   69\n",
       "15            Bajaj   44990.380769       40000.0   28376.045280  260\n",
       "16            Honda   44916.044118       42000.0   21998.783218  204\n",
       "17             Hero   40762.500000       38500.0   17202.536303  144\n",
       "18           Activa   34000.000000       40000.0   14933.184523    3\n",
       "19       Hero Honda   24525.000000       24850.0   11006.019774   88\n",
       "20               Yo   20000.000000       20000.0            NaN    1"
      ]
     },
     "execution_count": 143,
     "metadata": {},
     "output_type": "execute_result"
    }
   ],
   "source": [
    "df_grouped = df1[['company', 'selling_price']].groupby('company')\n",
    "\n",
    "df_grouped = df_grouped.agg(\n",
    "    avg_price = pd.NamedAgg('selling_price', 'mean'),\n",
    "    median_price = pd.NamedAgg('selling_price', 'median'),\n",
    "    std_price = pd.NamedAgg('selling_price', 'std'),\n",
    "    qty = pd.NamedAgg('company', 'count'),\n",
    ").sort_values('avg_price', ascending=False).reset_index()\n",
    "\n",
    "df_grouped"
   ]
  },
  {
   "cell_type": "code",
   "execution_count": 144,
   "id": "9eecaafb",
   "metadata": {
    "ExecuteTime": {
     "end_time": "2022-07-25T22:58:25.300463Z",
     "start_time": "2022-07-25T22:58:25.282658Z"
    }
   },
   "outputs": [
    {
     "data": {
      "image/png": "[encoded data removed]",
      "text/plain": [
       "<Figure size 1080x576 with 1 Axes>"
      ]
     },
     "metadata": {},
     "output_type": "display_data"
    }
   ],
   "source": [
    "ax = sns.barplot(\n",
    "    data = df_grouped,\n",
    "    x = 'company',\n",
    "    y = 'avg_price'\n",
    ")\n",
    "\n",
    "ax.bar_label(ax.containers[0])\n",
    "\n",
    "ax.set(\n",
    "    title = 'Preço Médio de Venda por Fabricante',\n",
    "    xlabel = 'Fabricante',\n",
    "    ylabel = 'Preço de Venda Médio'\n",
    ")\n",
    "\n",
    "plt.xticks(rotation = 80);"
   ]
  },
  {
   "cell_type": "markdown",
   "id": "8007d6b7",
   "metadata": {},
   "source": [
    "Como podemos observar, a fabricante que possui as motos com o maior valor médio para venda é a Harley-Davidson"
   ]
  },
  {
   "cell_type": "markdown",
   "id": "eb3a9242",
   "metadata": {},
   "source": [
    "#### 3. Qual o fabricante que possui a moto com o maior quilometragem?"
   ]
  },
  {
   "cell_type": "markdown",
   "id": "18929e30",
   "metadata": {
    "heading_collapsed": true
   },
   "source": [
    "##### Planejamento"
   ]
  },
  {
   "cell_type": "markdown",
   "id": "6161ef8f",
   "metadata": {
    "hidden": true
   },
   "source": [
    "Agrupar os dados pela coluna de fabricante e verificar qual é o registro que possuí o maior valor de quilometragem percorrido"
   ]
  },
  {
   "cell_type": "markdown",
   "id": "c61b1957",
   "metadata": {
    "heading_collapsed": true
   },
   "source": [
    "##### Resposta"
   ]
  },
  {
   "cell_type": "code",
   "execution_count": 145,
   "id": "086139e3",
   "metadata": {
    "hidden": true
   },
   "outputs": [
    {
     "data": {
      "text/html": [
       "<div>\n",
       "<style scoped>\n",
       "    .dataframe tbody tr th:only-of-type {\n",
       "        vertical-align: middle;\n",
       "    }\n",
       "\n",
       "    .dataframe tbody tr th {\n",
       "        vertical-align: top;\n",
       "    }\n",
       "\n",
       "    .dataframe thead th {\n",
       "        text-align: right;\n",
       "    }\n",
       "</style>\n",
       "<table border=\"1\" class=\"dataframe\">\n",
       "  <thead>\n",
       "    <tr style=\"text-align: right;\">\n",
       "      <th></th>\n",
       "      <th>company</th>\n",
       "      <th>avg_km_driven</th>\n",
       "      <th>median_km_driven</th>\n",
       "      <th>std_km_driven</th>\n",
       "      <th>qty</th>\n",
       "    </tr>\n",
       "  </thead>\n",
       "  <tbody>\n",
       "    <tr>\n",
       "      <th>0</th>\n",
       "      <td>Activa</td>\n",
       "      <td>167266.666667</td>\n",
       "      <td>1300.0</td>\n",
       "      <td>288155.796980</td>\n",
       "      <td>3</td>\n",
       "    </tr>\n",
       "    <tr>\n",
       "      <th>1</th>\n",
       "      <td>Hero Honda</td>\n",
       "      <td>60947.511364</td>\n",
       "      <td>49937.5</td>\n",
       "      <td>74767.910682</td>\n",
       "      <td>88</td>\n",
       "    </tr>\n",
       "    <tr>\n",
       "      <th>2</th>\n",
       "      <td>TVS</td>\n",
       "      <td>42008.318841</td>\n",
       "      <td>22000.0</td>\n",
       "      <td>104785.464235</td>\n",
       "      <td>69</td>\n",
       "    </tr>\n",
       "    <tr>\n",
       "      <th>3</th>\n",
       "      <td>Honda</td>\n",
       "      <td>36745.235294</td>\n",
       "      <td>25000.0</td>\n",
       "      <td>58314.203203</td>\n",
       "      <td>204</td>\n",
       "    </tr>\n",
       "    <tr>\n",
       "      <th>4</th>\n",
       "      <td>Hero</td>\n",
       "      <td>34172.187500</td>\n",
       "      <td>26000.0</td>\n",
       "      <td>41079.224626</td>\n",
       "      <td>144</td>\n",
       "    </tr>\n",
       "    <tr>\n",
       "      <th>5</th>\n",
       "      <td>Bajaj</td>\n",
       "      <td>33786.126923</td>\n",
       "      <td>30000.0</td>\n",
       "      <td>21387.191339</td>\n",
       "      <td>260</td>\n",
       "    </tr>\n",
       "    <tr>\n",
       "      <th>6</th>\n",
       "      <td>Yamaha</td>\n",
       "      <td>28281.862745</td>\n",
       "      <td>23000.0</td>\n",
       "      <td>23003.670574</td>\n",
       "      <td>102</td>\n",
       "    </tr>\n",
       "    <tr>\n",
       "      <th>7</th>\n",
       "      <td>Suzuki</td>\n",
       "      <td>22194.600000</td>\n",
       "      <td>15000.0</td>\n",
       "      <td>24011.389373</td>\n",
       "      <td>30</td>\n",
       "    </tr>\n",
       "    <tr>\n",
       "      <th>8</th>\n",
       "      <td>Royal Enfield</td>\n",
       "      <td>20732.935780</td>\n",
       "      <td>15000.0</td>\n",
       "      <td>34131.866124</td>\n",
       "      <td>109</td>\n",
       "    </tr>\n",
       "    <tr>\n",
       "      <th>9</th>\n",
       "      <td>Vespa</td>\n",
       "      <td>18428.000000</td>\n",
       "      <td>11356.0</td>\n",
       "      <td>22445.997074</td>\n",
       "      <td>4</td>\n",
       "    </tr>\n",
       "    <tr>\n",
       "      <th>10</th>\n",
       "      <td>Hyosung</td>\n",
       "      <td>16500.000000</td>\n",
       "      <td>16500.0</td>\n",
       "      <td>NaN</td>\n",
       "      <td>1</td>\n",
       "    </tr>\n",
       "    <tr>\n",
       "      <th>11</th>\n",
       "      <td>Mahindra</td>\n",
       "      <td>16238.833333</td>\n",
       "      <td>16750.0</td>\n",
       "      <td>11642.922664</td>\n",
       "      <td>6</td>\n",
       "    </tr>\n",
       "    <tr>\n",
       "      <th>12</th>\n",
       "      <td>UM</td>\n",
       "      <td>16133.333333</td>\n",
       "      <td>7000.0</td>\n",
       "      <td>20857.932144</td>\n",
       "      <td>3</td>\n",
       "    </tr>\n",
       "    <tr>\n",
       "      <th>13</th>\n",
       "      <td>Kawasaki</td>\n",
       "      <td>14100.000000</td>\n",
       "      <td>12800.0</td>\n",
       "      <td>4856.610615</td>\n",
       "      <td>4</td>\n",
       "    </tr>\n",
       "    <tr>\n",
       "      <th>14</th>\n",
       "      <td>KTM</td>\n",
       "      <td>13978.333333</td>\n",
       "      <td>12000.0</td>\n",
       "      <td>11678.723470</td>\n",
       "      <td>24</td>\n",
       "    </tr>\n",
       "    <tr>\n",
       "      <th>15</th>\n",
       "      <td>Yo</td>\n",
       "      <td>10000.000000</td>\n",
       "      <td>10000.0</td>\n",
       "      <td>NaN</td>\n",
       "      <td>1</td>\n",
       "    </tr>\n",
       "    <tr>\n",
       "      <th>16</th>\n",
       "      <td>Harley-Davidson</td>\n",
       "      <td>9250.000000</td>\n",
       "      <td>9250.0</td>\n",
       "      <td>3889.087297</td>\n",
       "      <td>2</td>\n",
       "    </tr>\n",
       "    <tr>\n",
       "      <th>17</th>\n",
       "      <td>Aprilia</td>\n",
       "      <td>5000.000000</td>\n",
       "      <td>5000.0</td>\n",
       "      <td>2121.320344</td>\n",
       "      <td>2</td>\n",
       "    </tr>\n",
       "    <tr>\n",
       "      <th>18</th>\n",
       "      <td>Jawa</td>\n",
       "      <td>3133.333333</td>\n",
       "      <td>2000.0</td>\n",
       "      <td>2227.853975</td>\n",
       "      <td>3</td>\n",
       "    </tr>\n",
       "    <tr>\n",
       "      <th>19</th>\n",
       "      <td>BMW</td>\n",
       "      <td>2500.000000</td>\n",
       "      <td>2500.0</td>\n",
       "      <td>NaN</td>\n",
       "      <td>1</td>\n",
       "    </tr>\n",
       "    <tr>\n",
       "      <th>20</th>\n",
       "      <td>Benelli</td>\n",
       "      <td>2009.000000</td>\n",
       "      <td>2009.0</td>\n",
       "      <td>NaN</td>\n",
       "      <td>1</td>\n",
       "    </tr>\n",
       "  </tbody>\n",
       "</table>\n",
       "</div>"
      ],
      "text/plain": [
       "            company  avg_km_driven  median_km_driven  std_km_driven  qty\n",
       "0            Activa  167266.666667            1300.0  288155.796980    3\n",
       "1        Hero Honda   60947.511364           49937.5   74767.910682   88\n",
       "2               TVS   42008.318841           22000.0  104785.464235   69\n",
       "3             Honda   36745.235294           25000.0   58314.203203  204\n",
       "4              Hero   34172.187500           26000.0   41079.224626  144\n",
       "5             Bajaj   33786.126923           30000.0   21387.191339  260\n",
       "6            Yamaha   28281.862745           23000.0   23003.670574  102\n",
       "7            Suzuki   22194.600000           15000.0   24011.389373   30\n",
       "8     Royal Enfield   20732.935780           15000.0   34131.866124  109\n",
       "9             Vespa   18428.000000           11356.0   22445.997074    4\n",
       "10          Hyosung   16500.000000           16500.0            NaN    1\n",
       "11         Mahindra   16238.833333           16750.0   11642.922664    6\n",
       "12               UM   16133.333333            7000.0   20857.932144    3\n",
       "13         Kawasaki   14100.000000           12800.0    4856.610615    4\n",
       "14              KTM   13978.333333           12000.0   11678.723470   24\n",
       "15               Yo   10000.000000           10000.0            NaN    1\n",
       "16  Harley-Davidson    9250.000000            9250.0    3889.087297    2\n",
       "17          Aprilia    5000.000000            5000.0    2121.320344    2\n",
       "18             Jawa    3133.333333            2000.0    2227.853975    3\n",
       "19              BMW    2500.000000            2500.0            NaN    1\n",
       "20          Benelli    2009.000000            2009.0            NaN    1"
      ]
     },
     "execution_count": 145,
     "metadata": {},
     "output_type": "execute_result"
    }
   ],
   "source": [
    "df_grouped = df1[['company', 'km_driven']].groupby('company')\n",
    "\n",
    "df_grouped = df_grouped.agg(\n",
    "    avg_km_driven = pd.NamedAgg('km_driven', 'mean'),\n",
    "    median_km_driven = pd.NamedAgg('km_driven', 'median'),\n",
    "    std_km_driven = pd.NamedAgg('km_driven', 'std'),\n",
    "    qty = pd.NamedAgg('company', 'count'),\n",
    ").sort_values('avg_km_driven', ascending=False).reset_index()\n",
    "\n",
    "df_grouped"
   ]
  },
  {
   "cell_type": "code",
   "execution_count": 146,
   "id": "a384ccd4",
   "metadata": {
    "hidden": true
   },
   "outputs": [
    {
     "data": {
      "image/png": "[encoded data removed]",
      "text/plain": [
       "<Figure size 1080x576 with 1 Axes>"
      ]
     },
     "metadata": {},
     "output_type": "display_data"
    }
   ],
   "source": [
    "ax = sns.barplot(\n",
    "    data = df_grouped,\n",
    "    x = 'company',\n",
    "    y = 'avg_km_driven'\n",
    ")\n",
    "\n",
    "ax.bar_label(ax.containers[0])\n",
    "\n",
    "ax.set(\n",
    "    title = 'Quilemtragem Média Percorrida por Fabricante',\n",
    "    xlabel = 'Fabricante',\n",
    "    ylabel = 'Média de Quilometragem percorrida'\n",
    ")\n",
    "\n",
    "plt.xticks(rotation = 80);"
   ]
  },
  {
   "cell_type": "markdown",
   "id": "f65fbbbe",
   "metadata": {
    "hidden": true
   },
   "source": [
    "Como podemos observar, a fabricante `Activia` é a que possui a moto com a maior distância percorrida na base de dados"
   ]
  },
  {
   "cell_type": "markdown",
   "id": "3ddd42ae",
   "metadata": {},
   "source": [
    "#### 4. Qual o fabricante que possui a moto mais velha?"
   ]
  },
  {
   "cell_type": "markdown",
   "id": "8764eedc",
   "metadata": {
    "heading_collapsed": true
   },
   "source": [
    "##### Planejamento"
   ]
  },
  {
   "cell_type": "markdown",
   "id": "847a8664",
   "metadata": {
    "hidden": true
   },
   "source": [
    "Agrupar os dados por fabricante e verificar o registro que possui o menor ano de fabricação"
   ]
  },
  {
   "cell_type": "markdown",
   "id": "f26280fa",
   "metadata": {
    "heading_collapsed": true
   },
   "source": [
    "##### Resposta"
   ]
  },
  {
   "cell_type": "code",
   "execution_count": 147,
   "id": "2449a222",
   "metadata": {
    "hidden": true
   },
   "outputs": [
    {
     "data": {
      "text/html": [
       "<div>\n",
       "<style scoped>\n",
       "    .dataframe tbody tr th:only-of-type {\n",
       "        vertical-align: middle;\n",
       "    }\n",
       "\n",
       "    .dataframe tbody tr th {\n",
       "        vertical-align: top;\n",
       "    }\n",
       "\n",
       "    .dataframe thead th {\n",
       "        text-align: right;\n",
       "    }\n",
       "</style>\n",
       "<table border=\"1\" class=\"dataframe\">\n",
       "  <thead>\n",
       "    <tr style=\"text-align: right;\">\n",
       "      <th></th>\n",
       "      <th>company</th>\n",
       "      <th>year</th>\n",
       "    </tr>\n",
       "  </thead>\n",
       "  <tbody>\n",
       "    <tr>\n",
       "      <th>0</th>\n",
       "      <td>Jawa</td>\n",
       "      <td>2019</td>\n",
       "    </tr>\n",
       "    <tr>\n",
       "      <th>1</th>\n",
       "      <td>BMW</td>\n",
       "      <td>2018</td>\n",
       "    </tr>\n",
       "    <tr>\n",
       "      <th>2</th>\n",
       "      <td>Aprilia</td>\n",
       "      <td>2018</td>\n",
       "    </tr>\n",
       "    <tr>\n",
       "      <th>3</th>\n",
       "      <td>Benelli</td>\n",
       "      <td>2017</td>\n",
       "    </tr>\n",
       "    <tr>\n",
       "      <th>4</th>\n",
       "      <td>UM</td>\n",
       "      <td>2017</td>\n",
       "    </tr>\n",
       "    <tr>\n",
       "      <th>5</th>\n",
       "      <td>Hyosung</td>\n",
       "      <td>2016</td>\n",
       "    </tr>\n",
       "    <tr>\n",
       "      <th>6</th>\n",
       "      <td>Vespa</td>\n",
       "      <td>2013</td>\n",
       "    </tr>\n",
       "    <tr>\n",
       "      <th>7</th>\n",
       "      <td>Harley-Davidson</td>\n",
       "      <td>2013</td>\n",
       "    </tr>\n",
       "    <tr>\n",
       "      <th>8</th>\n",
       "      <td>KTM</td>\n",
       "      <td>2013</td>\n",
       "    </tr>\n",
       "    <tr>\n",
       "      <th>9</th>\n",
       "      <td>Yo</td>\n",
       "      <td>2011</td>\n",
       "    </tr>\n",
       "    <tr>\n",
       "      <th>10</th>\n",
       "      <td>Kawasaki</td>\n",
       "      <td>2010</td>\n",
       "    </tr>\n",
       "    <tr>\n",
       "      <th>11</th>\n",
       "      <td>Suzuki</td>\n",
       "      <td>2010</td>\n",
       "    </tr>\n",
       "    <tr>\n",
       "      <th>12</th>\n",
       "      <td>Activa</td>\n",
       "      <td>2010</td>\n",
       "    </tr>\n",
       "    <tr>\n",
       "      <th>13</th>\n",
       "      <td>Mahindra</td>\n",
       "      <td>2009</td>\n",
       "    </tr>\n",
       "    <tr>\n",
       "      <th>14</th>\n",
       "      <td>Honda</td>\n",
       "      <td>2006</td>\n",
       "    </tr>\n",
       "    <tr>\n",
       "      <th>15</th>\n",
       "      <td>Hero</td>\n",
       "      <td>2005</td>\n",
       "    </tr>\n",
       "    <tr>\n",
       "      <th>16</th>\n",
       "      <td>TVS</td>\n",
       "      <td>1998</td>\n",
       "    </tr>\n",
       "    <tr>\n",
       "      <th>17</th>\n",
       "      <td>Hero Honda</td>\n",
       "      <td>1997</td>\n",
       "    </tr>\n",
       "    <tr>\n",
       "      <th>18</th>\n",
       "      <td>Yamaha</td>\n",
       "      <td>1997</td>\n",
       "    </tr>\n",
       "    <tr>\n",
       "      <th>19</th>\n",
       "      <td>Royal Enfield</td>\n",
       "      <td>1993</td>\n",
       "    </tr>\n",
       "    <tr>\n",
       "      <th>20</th>\n",
       "      <td>Bajaj</td>\n",
       "      <td>1988</td>\n",
       "    </tr>\n",
       "  </tbody>\n",
       "</table>\n",
       "</div>"
      ],
      "text/plain": [
       "            company  year\n",
       "0              Jawa  2019\n",
       "1               BMW  2018\n",
       "2           Aprilia  2018\n",
       "3           Benelli  2017\n",
       "4                UM  2017\n",
       "5           Hyosung  2016\n",
       "6             Vespa  2013\n",
       "7   Harley-Davidson  2013\n",
       "8               KTM  2013\n",
       "9                Yo  2011\n",
       "10         Kawasaki  2010\n",
       "11           Suzuki  2010\n",
       "12           Activa  2010\n",
       "13         Mahindra  2009\n",
       "14            Honda  2006\n",
       "15             Hero  2005\n",
       "16              TVS  1998\n",
       "17       Hero Honda  1997\n",
       "18           Yamaha  1997\n",
       "19    Royal Enfield  1993\n",
       "20            Bajaj  1988"
      ]
     },
     "execution_count": 147,
     "metadata": {},
     "output_type": "execute_result"
    }
   ],
   "source": [
    "df_grouped = df1[['year', 'company']].groupby('company')\n",
    "\n",
    "df_grouped = df_grouped.min().sort_values('year', ascending=False).reset_index()\n",
    "\n",
    "df_grouped"
   ]
  },
  {
   "cell_type": "code",
   "execution_count": 148,
   "id": "fdf62a5f",
   "metadata": {
    "hidden": true
   },
   "outputs": [
    {
     "data": {
      "image/png": "[encoded data removed]",
      "text/plain": [
       "<Figure size 1080x576 with 1 Axes>"
      ]
     },
     "metadata": {},
     "output_type": "display_data"
    }
   ],
   "source": [
    "ax = sns.barplot(\n",
    "    data=df_grouped, \n",
    "    x='company', \n",
    "    y='year'\n",
    ")\n",
    "\n",
    "ax.bar_label(ax.containers[0])\n",
    "\n",
    "ax.set(\n",
    "    xlabel='Fabricantes', \n",
    "    ylabel='Ano de Fabricação', \n",
    "    title='Maior distância percorrida por Fabricante', \n",
    "    ylim=[1980, 2022]\n",
    ")\n",
    "\n",
    "plt.xticks(rotation=75);"
   ]
  },
  {
   "cell_type": "markdown",
   "id": "6a34d040",
   "metadata": {
    "hidden": true
   },
   "source": [
    "Como podemos observar, a fabricante que possui a moto mais antiga na base de dados é a fabricante `Bajaj`"
   ]
  },
  {
   "cell_type": "markdown",
   "id": "b1dd646b",
   "metadata": {},
   "source": [
    "#### 5. O fabricante que possui a moto mais cara do Dataset é também o fabricante que possui menos motos cadastradas?"
   ]
  },
  {
   "cell_type": "markdown",
   "id": "d1d461b7",
   "metadata": {
    "heading_collapsed": true
   },
   "source": [
    "##### Planejamento"
   ]
  },
  {
   "cell_type": "markdown",
   "id": "9720875b",
   "metadata": {
    "hidden": true
   },
   "source": [
    "__Passos:__\n",
    "1. Agrupar os dados por fabricante. \n",
    "2. Selecionar as informações de preço de venda e de identificação. \n",
    "    1. Na coluna de preço de venda, verificar o valor mais caro\n",
    "    2. Na coluna de identificação, realizar a contagem."
   ]
  },
  {
   "cell_type": "markdown",
   "id": "608f3dff",
   "metadata": {
    "heading_collapsed": true
   },
   "source": [
    "##### Resposta"
   ]
  },
  {
   "cell_type": "code",
   "execution_count": 149,
   "id": "eaa4620a",
   "metadata": {
    "hidden": true
   },
   "outputs": [
    {
     "data": {
      "text/html": [
       "<div>\n",
       "<style scoped>\n",
       "    .dataframe tbody tr th:only-of-type {\n",
       "        vertical-align: middle;\n",
       "    }\n",
       "\n",
       "    .dataframe tbody tr th {\n",
       "        vertical-align: top;\n",
       "    }\n",
       "\n",
       "    .dataframe thead th {\n",
       "        text-align: right;\n",
       "    }\n",
       "</style>\n",
       "<table border=\"1\" class=\"dataframe\">\n",
       "  <thead>\n",
       "    <tr style=\"text-align: right;\">\n",
       "      <th></th>\n",
       "      <th>company</th>\n",
       "      <th>max_selling_price</th>\n",
       "      <th>quantity</th>\n",
       "    </tr>\n",
       "  </thead>\n",
       "  <tbody>\n",
       "    <tr>\n",
       "      <th>15</th>\n",
       "      <td>Suzuki</td>\n",
       "      <td>760000.0</td>\n",
       "      <td>30</td>\n",
       "    </tr>\n",
       "    <tr>\n",
       "      <th>5</th>\n",
       "      <td>Harley-Davidson</td>\n",
       "      <td>750000.0</td>\n",
       "      <td>2</td>\n",
       "    </tr>\n",
       "    <tr>\n",
       "      <th>12</th>\n",
       "      <td>Kawasaki</td>\n",
       "      <td>425000.0</td>\n",
       "      <td>4</td>\n",
       "    </tr>\n",
       "    <tr>\n",
       "      <th>19</th>\n",
       "      <td>Yamaha</td>\n",
       "      <td>365000.0</td>\n",
       "      <td>102</td>\n",
       "    </tr>\n",
       "    <tr>\n",
       "      <th>2</th>\n",
       "      <td>BMW</td>\n",
       "      <td>300000.0</td>\n",
       "      <td>1</td>\n",
       "    </tr>\n",
       "  </tbody>\n",
       "</table>\n",
       "</div>"
      ],
      "text/plain": [
       "            company  max_selling_price  quantity\n",
       "15           Suzuki           760000.0        30\n",
       "5   Harley-Davidson           750000.0         2\n",
       "12         Kawasaki           425000.0         4\n",
       "19           Yamaha           365000.0       102\n",
       "2               BMW           300000.0         1"
      ]
     },
     "execution_count": 149,
     "metadata": {},
     "output_type": "execute_result"
    }
   ],
   "source": [
    "df_grouped = df1[['id', 'selling_price', 'company']].groupby('company')\n",
    "\n",
    "df_grouped = df_grouped.agg(\n",
    "    max_selling_price = pd.NamedAgg('selling_price', 'max'),\n",
    "    quantity = pd.NamedAgg('id', 'count'),\n",
    ")\n",
    "\n",
    "df_grouped = df_grouped.reset_index().sort_values('max_selling_price', ascending=False)\n",
    "\n",
    "df_grouped.head()"
   ]
  },
  {
   "cell_type": "code",
   "execution_count": 150,
   "id": "d00963e6",
   "metadata": {
    "hidden": true
   },
   "outputs": [
    {
     "data": {
      "image/png": "[encoded data removed]",
      "text/plain": [
       "<Figure size 1080x576 with 1 Axes>"
      ]
     },
     "metadata": {},
     "output_type": "display_data"
    }
   ],
   "source": [
    "ax = sns.scatterplot(\n",
    "    data = df_grouped, \n",
    "    x = 'company', \n",
    "    y = 'max_selling_price', \n",
    "    hue='quantity', \n",
    ")\n",
    "\n",
    "ax = ax.set(\n",
    "    title='Valor Máximo de Venda de cada Fabricante pela quantidade de Motos',\n",
    "    xlabel='Fabricantes',\n",
    "    ylabel='Maior valor de venda',\n",
    ")\n",
    "\n",
    "plt.xticks(rotation = 80)\n",
    "plt.legend(title='Quantidade de Motos', loc='upper right');"
   ]
  },
  {
   "cell_type": "markdown",
   "id": "84ff849e",
   "metadata": {
    "hidden": true
   },
   "source": [
    "Como podemos observar, o fabricante que possui a moto mais cara na base de dados não é o fabricante que possui a menor quantidade de motos."
   ]
  },
  {
   "cell_type": "markdown",
   "id": "f44b9ca8",
   "metadata": {},
   "source": [
    "#### 6. Qual o fabricante que possui a menor variação de valor de venda?"
   ]
  },
  {
   "cell_type": "markdown",
   "id": "df7b3692",
   "metadata": {
    "heading_collapsed": true
   },
   "source": [
    "##### Planejamento"
   ]
  },
  {
   "cell_type": "markdown",
   "id": "8694e438",
   "metadata": {
    "hidden": true
   },
   "source": [
    "**Passos:**\n",
    "1. Vamos agrupar os dados pela coluna de fabricante\n",
    "2. Calcular a média do preço de venda\n",
    "3. Calcular o desvio padrão do preço de venda\n",
    "4. Verificar qual fabricante possui o maior valor de desvio\n",
    "5. Utilizar a função `agg` do pacote Pandas para fazer os cálculos."
   ]
  },
  {
   "cell_type": "markdown",
   "id": "68650072",
   "metadata": {},
   "source": [
    "##### Resposta"
   ]
  },
  {
   "cell_type": "code",
   "execution_count": 151,
   "id": "1f96e0e5",
   "metadata": {
    "ExecuteTime": {
     "end_time": "2022-07-25T23:14:09.947462Z",
     "start_time": "2022-07-25T23:14:09.924135Z"
    }
   },
   "outputs": [
    {
     "data": {
      "text/html": [
       "<div>\n",
       "<style scoped>\n",
       "    .dataframe tbody tr th:only-of-type {\n",
       "        vertical-align: middle;\n",
       "    }\n",
       "\n",
       "    .dataframe tbody tr th {\n",
       "        vertical-align: top;\n",
       "    }\n",
       "\n",
       "    .dataframe thead th {\n",
       "        text-align: right;\n",
       "    }\n",
       "</style>\n",
       "<table border=\"1\" class=\"dataframe\">\n",
       "  <thead>\n",
       "    <tr style=\"text-align: right;\">\n",
       "      <th></th>\n",
       "      <th>company</th>\n",
       "      <th>std</th>\n",
       "      <th>mean</th>\n",
       "    </tr>\n",
       "  </thead>\n",
       "  <tbody>\n",
       "    <tr>\n",
       "      <th>1</th>\n",
       "      <td>Aprilia</td>\n",
       "      <td>7071.067812</td>\n",
       "      <td>70000.000000</td>\n",
       "    </tr>\n",
       "    <tr>\n",
       "      <th>7</th>\n",
       "      <td>Hero Honda</td>\n",
       "      <td>11006.019774</td>\n",
       "      <td>24525.000000</td>\n",
       "    </tr>\n",
       "    <tr>\n",
       "      <th>10</th>\n",
       "      <td>Jawa</td>\n",
       "      <td>13228.756555</td>\n",
       "      <td>175000.000000</td>\n",
       "    </tr>\n",
       "    <tr>\n",
       "      <th>0</th>\n",
       "      <td>Activa</td>\n",
       "      <td>14933.184523</td>\n",
       "      <td>34000.000000</td>\n",
       "    </tr>\n",
       "    <tr>\n",
       "      <th>17</th>\n",
       "      <td>UM</td>\n",
       "      <td>15275.252317</td>\n",
       "      <td>156666.666667</td>\n",
       "    </tr>\n",
       "  </tbody>\n",
       "</table>\n",
       "</div>"
      ],
      "text/plain": [
       "       company           std           mean\n",
       "1      Aprilia   7071.067812   70000.000000\n",
       "7   Hero Honda  11006.019774   24525.000000\n",
       "10        Jawa  13228.756555  175000.000000\n",
       "0       Activa  14933.184523   34000.000000\n",
       "17          UM  15275.252317  156666.666667"
      ]
     },
     "execution_count": 151,
     "metadata": {},
     "output_type": "execute_result"
    }
   ],
   "source": [
    "df_grouped = df1[['selling_price', 'company']].groupby('company')\n",
    "\n",
    "df_grouped = df_grouped.agg(\n",
    "    std = pd.NamedAgg('selling_price', 'std'),\n",
    "    mean = pd.NamedAgg('selling_price', 'mean'),\n",
    ")\n",
    "\n",
    "df_grouped = df_grouped.reset_index().sort_values('std').dropna()\n",
    "\n",
    "df_grouped.head()"
   ]
  },
  {
   "cell_type": "code",
   "execution_count": 152,
   "id": "2c8913b2",
   "metadata": {},
   "outputs": [
    {
     "data": {
      "image/png": "[encoded data removed]",
      "text/plain": [
       "<Figure size 1080x576 with 1 Axes>"
      ]
     },
     "metadata": {},
     "output_type": "display_data"
    }
   ],
   "source": [
    "ax = sns.barplot(\n",
    "    data = df_grouped, \n",
    "    x = 'company', \n",
    "    y = 'std', \n",
    ")\n",
    "\n",
    "ax = ax.set(\n",
    "    title='Desvio do valor de venda de cada fabricante',\n",
    "    xlabel='Fabricantes',\n",
    "    ylabel='Valor do Desvio do valor de venda',\n",
    ")\n",
    "\n",
    "plt.xticks(rotation = 80);"
   ]
  },
  {
   "cell_type": "markdown",
   "id": "7c29cbd6",
   "metadata": {},
   "source": [
    "#### 7. Quais motos eu devo comprar?"
   ]
  },
  {
   "cell_type": "markdown",
   "id": "db60f162",
   "metadata": {},
   "source": [
    "Leve em conta que eu desejo motos com no máximo 3 anos de uso; no máximo 40 mil quilometros rodados; que sejam de um único dono; que estejam sendo vendidas por possoas físicas e que tenham o valor pretendido de venda menor que o valor do showroom. Envie um relatório contendo o modelo, preço de venda, quilometro rodado e ano, ordenado por valor de venda de forma decrescente para o meu e-mail."
   ]
  },
  {
   "cell_type": "markdown",
   "id": "fedfb725",
   "metadata": {},
   "source": [
    "##### Planejamento"
   ]
  },
  {
   "cell_type": "markdown",
   "id": "2abe12a1",
   "metadata": {},
   "source": [
    "**Passos:**\n",
    "1. Selecionar somente as motos com no máximo 3 anos de uso\n",
    "2. Selecionar somente as motos com no máximo 40 mil quilometros rodados\n",
    "3. Selecionar somente vendedores que sejam pessoa física\n",
    "4. A motdeve possuir o valor de venda menor que o valor da venda menos impostos (coluns `showroom ex`)"
   ]
  },
  {
   "cell_type": "markdown",
   "id": "70f73fe6",
   "metadata": {},
   "source": [
    "##### Resposta"
   ]
  },
  {
   "cell_type": "code",
   "execution_count": 153,
   "id": "288ad841",
   "metadata": {
    "ExecuteTime": {
     "end_time": "2022-07-25T23:27:08.956901Z",
     "start_time": "2022-07-25T23:27:08.949008Z"
    }
   },
   "outputs": [],
   "source": [
    "year = (df1['year'] >= 2018)\n",
    "km_rodado = (df1['km_driven'] <= 40000)\n",
    "donos = (df1['owner'] == '1st owner')\n",
    "vendedor = (df1['seller_type'] == 'Individual')\n",
    "venda = (df1['selling_price'] < df1['ex_showroom_price'])"
   ]
  },
  {
   "cell_type": "code",
   "execution_count": 154,
   "id": "714d757e",
   "metadata": {
    "ExecuteTime": {
     "end_time": "2022-07-25T23:41:38.932924Z",
     "start_time": "2022-07-25T23:41:38.927379Z"
    }
   },
   "outputs": [],
   "source": [
    "columns = ['id', 'name', 'selling_price', 'km_driven', 'year']"
   ]
  },
  {
   "cell_type": "code",
   "execution_count": 155,
   "id": "c243f34e",
   "metadata": {
    "ExecuteTime": {
     "end_time": "2022-07-25T23:41:39.058861Z",
     "start_time": "2022-07-25T23:41:39.054114Z"
    }
   },
   "outputs": [
    {
     "data": {
      "text/html": [
       "<div>\n",
       "<style scoped>\n",
       "    .dataframe tbody tr th:only-of-type {\n",
       "        vertical-align: middle;\n",
       "    }\n",
       "\n",
       "    .dataframe tbody tr th {\n",
       "        vertical-align: top;\n",
       "    }\n",
       "\n",
       "    .dataframe thead th {\n",
       "        text-align: right;\n",
       "    }\n",
       "</style>\n",
       "<table border=\"1\" class=\"dataframe\">\n",
       "  <thead>\n",
       "    <tr style=\"text-align: right;\">\n",
       "      <th></th>\n",
       "      <th>id</th>\n",
       "      <th>name</th>\n",
       "      <th>selling_price</th>\n",
       "      <th>km_driven</th>\n",
       "      <th>year</th>\n",
       "    </tr>\n",
       "  </thead>\n",
       "  <tbody>\n",
       "    <tr>\n",
       "      <th>344</th>\n",
       "      <td>344</td>\n",
       "      <td>G310GS</td>\n",
       "      <td>300000.0</td>\n",
       "      <td>2500</td>\n",
       "      <td>2018</td>\n",
       "    </tr>\n",
       "    <tr>\n",
       "      <th>588</th>\n",
       "      <td>588</td>\n",
       "      <td>CBR-250R</td>\n",
       "      <td>200000.0</td>\n",
       "      <td>5500</td>\n",
       "      <td>2019</td>\n",
       "    </tr>\n",
       "    <tr>\n",
       "      <th>865</th>\n",
       "      <td>865</td>\n",
       "      <td>Thunderbird 500X</td>\n",
       "      <td>185000.0</td>\n",
       "      <td>1500</td>\n",
       "      <td>2018</td>\n",
       "    </tr>\n",
       "    <tr>\n",
       "      <th>960</th>\n",
       "      <td>960</td>\n",
       "      <td>Thunder 500</td>\n",
       "      <td>175000.0</td>\n",
       "      <td>3000</td>\n",
       "      <td>2018</td>\n",
       "    </tr>\n",
       "    <tr>\n",
       "      <th>961</th>\n",
       "      <td>961</td>\n",
       "      <td>Renegade Mojave</td>\n",
       "      <td>170000.0</td>\n",
       "      <td>1400</td>\n",
       "      <td>2019</td>\n",
       "    </tr>\n",
       "  </tbody>\n",
       "</table>\n",
       "</div>"
      ],
      "text/plain": [
       "      id              name  selling_price  km_driven  year\n",
       "344  344            G310GS       300000.0       2500  2018\n",
       "588  588          CBR-250R       200000.0       5500  2019\n",
       "865  865  Thunderbird 500X       185000.0       1500  2018\n",
       "960  960       Thunder 500       175000.0       3000  2018\n",
       "961  961   Renegade Mojave       170000.0       1400  2019"
      ]
     },
     "execution_count": 155,
     "metadata": {},
     "output_type": "execute_result"
    }
   ],
   "source": [
    "df_selected = df1.loc[ \n",
    "    year & km_rodado & donos & vendedor & venda,\n",
    "    columns\n",
    "].sort_values('selling_price', ascending = False)\n",
    "\n",
    "df_selected.head()"
   ]
  },
  {
   "cell_type": "code",
   "execution_count": 156,
   "id": "3c0237cb",
   "metadata": {
    "ExecuteTime": {
     "end_time": "2022-07-25T23:34:17.551057Z",
     "start_time": "2022-07-25T23:34:17.512859Z"
    }
   },
   "outputs": [],
   "source": [
    "df_selected.to_excel('../data/exported/bikes.xlsx', index = False)"
   ]
  },
  {
   "cell_type": "code",
   "execution_count": null,
   "metadata": {},
   "outputs": [],
   "source": []
  }
 ],
 "metadata": {
  "kernelspec": {
   "display_name": "Python 3.9.12 ('dsemproducao')",
   "language": "python",
   "name": "python3"
  },
  "language_info": {
   "codemirror_mode": {
    "name": "ipython",
    "version": 3
   },
   "file_extension": ".py",
   "mimetype": "text/x-python",
   "name": "python",
   "nbconvert_exporter": "python",
   "pygments_lexer": "ipython3",
   "version": "3.9.12"
  },
  "orig_nbformat": 4,
  "vscode": {
   "interpreter": {
    "hash": "dcf383202bc7063fa953802195e03396101d65488be436f89a99df8a59406317"
   }
  }
 },
 "nbformat": 4,
 "nbformat_minor": 2
}
